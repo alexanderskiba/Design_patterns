{
 "cells": [
  {
   "cell_type": "code",
   "execution_count": 5,
   "id": "cloudy-heavy",
   "metadata": {},
   "outputs": [],
   "source": [
    "import doctest"
   ]
  },
  {
   "cell_type": "code",
   "execution_count": 7,
   "id": "usual-cloud",
   "metadata": {},
   "outputs": [],
   "source": [
    "def is_braces_sequence_correct (seq: str) -> bool:\n",
    "    \"\"\"\n",
    "    Check correctness of braces sequence in statement\n",
    "    >>> is_braces_sequence_correct (\"()(())\")\n",
    "    True\n",
    "    >>> is_braces_sequence_correct (\"()[()]\")\n",
    "    True\n",
    "    >>> is_braces_sequence_correct(\")\")\n",
    "    False\n",
    "    >>> is_braces_sequence_correct (\"[()\")\n",
    "    False\n",
    "    >>> is_braces_sequence_correct (\"[(])\")\n",
    "    False\n",
    "    \"\"\""
   ]
  },
  {
   "cell_type": "code",
   "execution_count": 9,
   "id": "northern-train",
   "metadata": {},
   "outputs": [
    {
     "name": "stdout",
     "output_type": "stream",
     "text": [
      "**********************************************************************\n",
      "File \"__main__\", line 4, in __main__.is_braces_sequence_correct\n",
      "Failed example:\n",
      "    is_braces_sequence_correct (\"()(())\")\n",
      "Expected:\n",
      "    True\n",
      "Got nothing\n",
      "**********************************************************************\n",
      "File \"__main__\", line 6, in __main__.is_braces_sequence_correct\n",
      "Failed example:\n",
      "    is_braces_sequence_correct (\"()[()]\")\n",
      "Expected:\n",
      "    True\n",
      "Got nothing\n",
      "**********************************************************************\n",
      "File \"__main__\", line 8, in __main__.is_braces_sequence_correct\n",
      "Failed example:\n",
      "    is_braces_sequence_correct(\")\")\n",
      "Expected:\n",
      "    False\n",
      "Got nothing\n",
      "**********************************************************************\n",
      "File \"__main__\", line 10, in __main__.is_braces_sequence_correct\n",
      "Failed example:\n",
      "    is_braces_sequence_correct (\"[()\")\n",
      "Expected:\n",
      "    False\n",
      "Got nothing\n",
      "**********************************************************************\n",
      "File \"__main__\", line 12, in __main__.is_braces_sequence_correct\n",
      "Failed example:\n",
      "    is_braces_sequence_correct (\"[(])\")\n",
      "Expected:\n",
      "    False\n",
      "Got nothing\n",
      "**********************************************************************\n",
      "1 items had failures:\n",
      "   5 of   5 in __main__.is_braces_sequence_correct\n",
      "***Test Failed*** 5 failures.\n"
     ]
    }
   ],
   "source": [
    "if __name__ == \"__main__\":\n",
    "    import doctest\n",
    "    doctest.testmod ()"
   ]
  }
 ],
 "metadata": {
  "kernelspec": {
   "display_name": "Python 3",
   "language": "python",
   "name": "python3"
  },
  "language_info": {
   "codemirror_mode": {
    "name": "ipython",
    "version": 3
   },
   "file_extension": ".py",
   "mimetype": "text/x-python",
   "name": "python",
   "nbconvert_exporter": "python",
   "pygments_lexer": "ipython3",
   "version": "3.6.8"
  }
 },
 "nbformat": 4,
 "nbformat_minor": 5
}
