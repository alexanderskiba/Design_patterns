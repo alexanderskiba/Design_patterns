{
 "cells": [
  {
   "cell_type": "code",
   "execution_count": 1,
   "id": "bizarre-canal",
   "metadata": {},
   "outputs": [],
   "source": [
    "import unittest"
   ]
  },
  {
   "cell_type": "code",
   "execution_count": 10,
   "id": "engaging-ladder",
   "metadata": {},
   "outputs": [],
   "source": [
    "def fib(n:int) ->int:\n",
    "    f = [0,1] + [0] * (n-1)\n",
    "    for i in range(2, n+1):\n",
    "        f[i] = f[i-1] + f [i-2]\n",
    "    return f[n]"
   ]
  },
  {
   "cell_type": "code",
   "execution_count": 11,
   "id": "important-occasions",
   "metadata": {},
   "outputs": [],
   "source": [
    "class TestFibonacciNumbers(unittest.TestCase):\n",
    "    def test_zero(self):\n",
    "        self.assertEqual(fib(0),0)"
   ]
  },
  {
   "cell_type": "code",
   "execution_count": 12,
   "id": "packed-dealing",
   "metadata": {},
   "outputs": [],
   "source": [
    "def test_simple(self):\n",
    "    for n, fib_n in (1, 1), (2, 1), (3, 2), (4, 3), (5, 5):\n",
    "        with self.subTest(i=n):\n",
    "            self.assertEqual(fib(n), fib_n)"
   ]
  },
  {
   "cell_type": "code",
   "execution_count": 13,
   "id": "played-xerox",
   "metadata": {},
   "outputs": [],
   "source": [
    "def test_positibe(self):\n",
    "    self.assertEqual(fib(10), 55)"
   ]
  },
  {
   "cell_type": "code",
   "execution_count": 14,
   "id": "nearby-brook",
   "metadata": {},
   "outputs": [],
   "source": [
    "def test_negative(self):\n",
    "    with self.subTest(i=1):\n",
    "        self.assertRaises(ArithmeticError, fib, -1)\n",
    "    with self.subTest(i=1):\n",
    "        self.assertRaises(ArithmeticError, fib, -10)"
   ]
  },
  {
   "cell_type": "code",
   "execution_count": 15,
   "id": "patient-cherry",
   "metadata": {},
   "outputs": [],
   "source": [
    "def test_fractional(self):\n",
    "    self.assertRaises(ArithmeticError, fib, 2.5)"
   ]
  },
  {
   "cell_type": "code",
   "execution_count": 17,
   "id": "optical-canvas",
   "metadata": {},
   "outputs": [
    {
     "name": "stderr",
     "output_type": "stream",
     "text": [
      "E\n",
      "======================================================================\n",
      "ERROR: /Users/aleksandrskiba/Library/Jupyter/runtime/kernel-5ae3b005-fb4e-419e-982d-630845345faa (unittest.loader._FailedTest)\n",
      "----------------------------------------------------------------------\n",
      "AttributeError: module '__main__' has no attribute '/Users/aleksandrskiba/Library/Jupyter/runtime/kernel-5ae3b005-fb4e-419e-982d-630845345faa'\n",
      "\n",
      "----------------------------------------------------------------------\n",
      "Ran 1 test in 0.002s\n",
      "\n",
      "FAILED (errors=1)\n"
     ]
    },
    {
     "ename": "SystemExit",
     "evalue": "True",
     "output_type": "error",
     "traceback": [
      "An exception has occurred, use %tb to see the full traceback.\n",
      "\u001b[0;31mSystemExit\u001b[0m\u001b[0;31m:\u001b[0m True\n"
     ]
    },
    {
     "name": "stderr",
     "output_type": "stream",
     "text": [
      "/Library/Frameworks/Python.framework/Versions/3.6/lib/python3.6/site-packages/IPython/core/interactiveshell.py:3351: UserWarning: To exit: use 'exit', 'quit', or Ctrl-D.\n",
      "  warn(\"To exit: use 'exit', 'quit', or Ctrl-D.\", stacklevel=1)\n"
     ]
    }
   ],
   "source": [
    "unittest.main()"
   ]
  },
  {
   "cell_type": "code",
   "execution_count": null,
   "id": "furnished-deviation",
   "metadata": {},
   "outputs": [],
   "source": []
  }
 ],
 "metadata": {
  "kernelspec": {
   "display_name": "Python 3",
   "language": "python",
   "name": "python3"
  },
  "language_info": {
   "codemirror_mode": {
    "name": "ipython",
    "version": 3
   },
   "file_extension": ".py",
   "mimetype": "text/x-python",
   "name": "python",
   "nbconvert_exporter": "python",
   "pygments_lexer": "ipython3",
   "version": "3.6.8"
  }
 },
 "nbformat": 4,
 "nbformat_minor": 5
}
