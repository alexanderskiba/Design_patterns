{
 "cells": [
  {
   "cell_type": "markdown",
   "id": "behavioral-charity",
   "metadata": {},
   "source": [
    "# Парадигмы ООП"
   ]
  },
  {
   "cell_type": "markdown",
   "id": "living-laundry",
   "metadata": {},
   "source": [
    "## Парадигма наследования\n",
    "Парадигма наследования позволяет создавать сложные системы классов, избежать дублирования кода, упростить поддержку программ и многое другое.\n",
    "\n",
    "При наследовании обычно говорят о классах-родителях и классах-потомках. У одного родительского класса может быть несколько классов-потомков, расширяющих функционал родительского класса. Если язык программирования поддерживает множественное наследование, то у одного класса-потомка может быть несколько родительских классов. Язык Python поддерживает множественное наследование. Поля родительского класса при наследовании переходят к классу-потомку. Кроме того, поля родительского класса могут переопределены у потомка."
   ]
  },
  {
   "cell_type": "code",
   "execution_count": 1,
   "id": "cleared-possibility",
   "metadata": {},
   "outputs": [
    {
     "name": "stdout",
     "output_type": "stream",
     "text": [
      "A:\t ['other_function', 'some_function']\n",
      "B:\t ['method_in_B']\n",
      "C(A):\t ['other_function', 'some_function']\n",
      "D(B,C):\t ['method_in_B', 'other_function', 'some_function']\n",
      "\n"
     ]
    }
   ],
   "source": [
    "class A:\n",
    "    def some_function(self):\n",
    "        print(\"First function\")\n",
    "    def other_function(self):\n",
    "        print(\"Second_function\")\n",
    "        \n",
    "class B:\n",
    "    def method_in_B(self):\n",
    "        print(\"Third function\")\n",
    "        \n",
    "class C(A):\n",
    "    def other_function(self):\n",
    "        print(\"Replaced function\")\n",
    "        \n",
    "class D(B,C):\n",
    "    pass\n",
    "\n",
    "# Посмотрим все атрибуты класса, не являющиеся служебными\n",
    "print(\"A:\\t\", list(filter(lambda x: \"__\" not in x, dir(A))))\n",
    "print(\"B:\\t\", list(filter(lambda x: \"__\" not in x, dir(B))))\n",
    "print(\"C(A):\\t\", list(filter(lambda x: \"__\" not in x, dir(C))))\n",
    "print(\"D(B,C):\\t\", list(filter(lambda x: \"__\" not in x, dir(D))))\n",
    "print()"
   ]
  },
  {
   "cell_type": "code",
   "execution_count": 2,
   "id": "forbidden-ultimate",
   "metadata": {},
   "outputs": [
    {
     "name": "stdout",
     "output_type": "stream",
     "text": [
      "Third function\n",
      "First function\n",
      "Replaced function\n",
      "\n"
     ]
    }
   ],
   "source": [
    "# Посмотрим на реализацию функцй в D\n",
    "d = D()\n",
    "d.method_in_B()\n",
    "d.some_function()\n",
    "d.other_function()\n",
    "print()"
   ]
  },
  {
   "cell_type": "markdown",
   "id": "military-xerox",
   "metadata": {},
   "source": [
    "## Парадигма инкапусляции\n",
    "Парадигма инкапсуляции предлагает объединять переменные и методы, относящиеся к одному объекту в единый компонент. По сути соблюдение парадигмы инкапсуляции и заключается в создании классов."
   ]
  },
  {
   "cell_type": "markdown",
   "id": "mathematical-governor",
   "metadata": {},
   "source": [
    "## Парадигма полиморфизма\n",
    "Парадигма полиморфизама позволяет вместо объекта базового типа использовать его потомка, при этом не указывая это явно"
   ]
  },
  {
   "cell_type": "code",
   "execution_count": 13,
   "id": "functioning-deposit",
   "metadata": {},
   "outputs": [],
   "source": [
    "class Parent:\n",
    "    \n",
    "    def some_method(self):\n",
    "        print(\"This is parent object\")\n",
    "        \n",
    "    \n",
    "class Child1(Parent):\n",
    "    \n",
    "    def some_method(self):\n",
    "        print(\"This is Child1 object\")\n",
    "        \n",
    "class Child2(Parent):\n",
    "    \n",
    "    def some_method(self):\n",
    "        print(\"This is Child2 object\")\n",
    "        \n",
    "def who_am_i(obj):\n",
    "    obj.some_method()\n",
    "    "
   ]
  },
  {
   "cell_type": "code",
   "execution_count": 14,
   "id": "outer-antarctica",
   "metadata": {},
   "outputs": [],
   "source": [
    "p = Parent()\n",
    "c1 = Child1()\n",
    "c2 = Child2()"
   ]
  },
  {
   "cell_type": "code",
   "execution_count": 15,
   "id": "yellow-pride",
   "metadata": {},
   "outputs": [
    {
     "name": "stdout",
     "output_type": "stream",
     "text": [
      "This is parent object\n",
      "This is Child1 object\n",
      "This is Child2 object\n"
     ]
    }
   ],
   "source": [
    "who_am_i(p)\n",
    "who_am_i(c1)\n",
    "who_am_i(c2)"
   ]
  }
 ],
 "metadata": {
  "kernelspec": {
   "display_name": "Python 3",
   "language": "python",
   "name": "python3"
  },
  "language_info": {
   "codemirror_mode": {
    "name": "ipython",
    "version": 3
   },
   "file_extension": ".py",
   "mimetype": "text/x-python",
   "name": "python",
   "nbconvert_exporter": "python",
   "pygments_lexer": "ipython3",
   "version": "3.6.8"
  }
 },
 "nbformat": 4,
 "nbformat_minor": 5
}
