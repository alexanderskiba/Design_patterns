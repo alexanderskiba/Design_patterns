{
 "cells": [
  {
   "cell_type": "markdown",
   "id": "surface-anchor",
   "metadata": {},
   "source": [
    "Внедрение в готовый код"
   ]
  },
  {
   "cell_type": "code",
   "execution_count": 3,
   "id": "local-insulin",
   "metadata": {},
   "outputs": [],
   "source": [
    "def fibonacci(n):\n",
    "    assert n >= 0\n",
    "    F = [0, 1] + [0] * n\n",
    "    for i in range(2, n+1):\n",
    "        F[i] = F[i-1] + F[i-2]\n",
    "    assert F[n] >=0 and F[n] == F[n-1] + F[n-2]\n",
    "    return F[n]"
   ]
  },
  {
   "cell_type": "markdown",
   "id": "aerial-directive",
   "metadata": {},
   "source": [
    "Пример для конструктора класса"
   ]
  },
  {
   "cell_type": "code",
   "execution_count": 4,
   "id": "frequent-yesterday",
   "metadata": {},
   "outputs": [],
   "source": [
    "class DateType:\n",
    "    def __init__(self, year=2000, month=1, day=1):\n",
    "        assert year >= 0 and year < 3000\n",
    "        assert month >= 1 and month <= 12 and day >= 1\n",
    "        assert day <= [31, 29, 31, 30, 31, 30, 31, 31, 30, 31, 30, 31][month-1]\n",
    "        self.year = year\n",
    "        self.month = month\n",
    "        self.day = day"
   ]
  },
  {
   "cell_type": "markdown",
   "id": "unknown-growth",
   "metadata": {},
   "source": [
    "# Виды инвариантов"
   ]
  },
  {
   "cell_type": "markdown",
   "id": "angry-martin",
   "metadata": {},
   "source": [
    "Внутренний инвариант (internal invariant) — это логическое выражение, выражающее уверенность программиста в значении некоторых переменных в некоторый момент выполнения программы."
   ]
  },
  {
   "cell_type": "code",
   "execution_count": 6,
   "id": "broken-browser",
   "metadata": {},
   "outputs": [
    {
     "name": "stdout",
     "output_type": "stream",
     "text": [
      "Число делится на три\n"
     ]
    }
   ],
   "source": [
    "x = 3\n",
    "if x%3 == 0:\n",
    "    print(\"Число делится на три\")\n",
    "elif x%3 == 1:\n",
    "    print(\"При делении на три остаток - один\")\n",
    "else:\n",
    "    assert x%3 ==2 # assert здесь является комментарием, гарнтирующим истинность утверждения\n",
    "    print(\"Остаток при делении на три - два\")"
   ]
  },
  {
   "cell_type": "markdown",
   "id": "commercial-income",
   "metadata": {},
   "source": [
    "Из внутренних инвариантов стоит выделить инвариант цикла — это логическое выражение, истинное после каждого прохода тела цикла и перед началом выполнения цикла, зависящее от переменных, изменяющихся в теле цикла.\n",
    "\n",
    "Инвариант потока выполнения (control-flow invariants) — выражает уверенность программиста в том как идёт поток выполнения. В том числе, что какой-то участок кода никогда не должен быть достигнут."
   ]
  },
  {
   "cell_type": "code",
   "execution_count": null,
   "id": "inner-ukraine",
   "metadata": {},
   "outputs": [],
   "source": [
    "def foo():\n",
    "    for ...:\n",
    "        if ...:\n",
    "            return ...\n",
    "    assert False  # Поток выполнения никогда не должен достигнуть этой строки!"
   ]
  },
  {
   "cell_type": "markdown",
   "id": "devoted-medicare",
   "metadata": {},
   "source": [
    "Инвариант класса (class invariant) — это семантические свойства и ограничения целостности экземпляра класса. Например, объект календарной даты никогда не может находиться в состоянии 31 апреля или 30 февраля. Объект класса красно-чёрного дерева поиска в момент вызова любого его метода, как и по окончании, должен быть сбалансирован."
   ]
  },
  {
   "cell_type": "markdown",
   "id": "unsigned-constitutional",
   "metadata": {},
   "source": [
    "# Контракты PyContracts\n"
   ]
  },
  {
   "cell_type": "markdown",
   "id": "ranging-simon",
   "metadata": {},
   "source": [
    "Предусловия и постусловия удобно оформлять не через утверждения, а как контракт функции. Нам поможет декоратор contract из библиотеки PyContracts:"
   ]
  },
  {
   "cell_type": "code",
   "execution_count": 1,
   "id": "stock-hawaiian",
   "metadata": {},
   "outputs": [
    {
     "name": "stdout",
     "output_type": "stream",
     "text": [
      "Requirement already satisfied: python-contracts in /Library/Frameworks/Python.framework/Versions/3.6/lib/python3.6/site-packages (0.1.4)\r\n"
     ]
    }
   ],
   "source": [
    "!pip3 install python-contracts"
   ]
  },
  {
   "cell_type": "code",
   "execution_count": 2,
   "id": "executed-oriental",
   "metadata": {},
   "outputs": [],
   "source": [
    "from contracts import ic, oc"
   ]
  },
  {
   "cell_type": "code",
   "execution_count": 5,
   "id": "superb-calculator",
   "metadata": {},
   "outputs": [],
   "source": [
    "@ic(x='int, >=0')\n",
    "def f(x):\n",
    "    pass"
   ]
  },
  {
   "cell_type": "code",
   "execution_count": 6,
   "id": "freelance-anchor",
   "metadata": {},
   "outputs": [
    {
     "ename": "InputContractException",
     "evalue": "\n\nContract violating arguments:\n\nx: -2\nstr(object='') -> str\nstr(bytes_or_buffer[, encoding[, errors]]) -> str\n\nCreate a new string object from the given object. If encoding or\nerrors is specified, then the object must expose a data buffer\nthat will be decoded using the given encoding and error handler.\nOtherwise, returns the result of object.__str__() (if defined)\nor repr(object).\nencoding defaults to sys.getdefaultencoding().\nerrors defaults to 'strict'.",
     "output_type": "error",
     "traceback": [
      "\u001b[0;31m---------------------------------------------------------------------------\u001b[0m",
      "\u001b[0;31mInputContractException\u001b[0m                    Traceback (most recent call last)",
      "\u001b[0;32m<ipython-input-6-b3c9e7a25a75>\u001b[0m in \u001b[0;36m<module>\u001b[0;34m\u001b[0m\n\u001b[0;32m----> 1\u001b[0;31m \u001b[0mf\u001b[0m\u001b[0;34m(\u001b[0m\u001b[0;34m-\u001b[0m\u001b[0;36m2\u001b[0m\u001b[0;34m)\u001b[0m\u001b[0;34m\u001b[0m\u001b[0;34m\u001b[0m\u001b[0m\n\u001b[0m",
      "\u001b[0;32m/Library/Frameworks/Python.framework/Versions/3.6/lib/python3.6/site-packages/contracts/contracts.py\u001b[0m in \u001b[0;36mdecorated\u001b[0;34m(*args, **kwargs)\u001b[0m\n\u001b[1;32m     28\u001b[0m \u001b[0;34m\u001b[0m\u001b[0m\n\u001b[1;32m     29\u001b[0m             \u001b[0;32mif\u001b[0m \u001b[0mlen\u001b[0m\u001b[0;34m(\u001b[0m\u001b[0merror_params_args\u001b[0m\u001b[0;34m)\u001b[0m \u001b[0;32mis\u001b[0m \u001b[0;32mnot\u001b[0m \u001b[0;36m0\u001b[0m\u001b[0;34m:\u001b[0m\u001b[0;34m\u001b[0m\u001b[0;34m\u001b[0m\u001b[0m\n\u001b[0;32m---> 30\u001b[0;31m                 \u001b[0;32mraise\u001b[0m \u001b[0mInputContractException\u001b[0m\u001b[0;34m(\u001b[0m\u001b[0merror_params_args\u001b[0m\u001b[0;34m,\u001b[0m \u001b[0mcontracts\u001b[0m\u001b[0;34m)\u001b[0m\u001b[0;34m\u001b[0m\u001b[0;34m\u001b[0m\u001b[0m\n\u001b[0m\u001b[1;32m     31\u001b[0m             \u001b[0;32mreturn\u001b[0m \u001b[0mfunc\u001b[0m\u001b[0;34m(\u001b[0m\u001b[0;34m*\u001b[0m\u001b[0margs\u001b[0m\u001b[0;34m,\u001b[0m \u001b[0;34m**\u001b[0m\u001b[0mkwargs\u001b[0m\u001b[0;34m)\u001b[0m\u001b[0;34m\u001b[0m\u001b[0;34m\u001b[0m\u001b[0m\n\u001b[1;32m     32\u001b[0m \u001b[0;34m\u001b[0m\u001b[0m\n",
      "\u001b[0;31mInputContractException\u001b[0m: \n\nContract violating arguments:\n\nx: -2\nstr(object='') -> str\nstr(bytes_or_buffer[, encoding[, errors]]) -> str\n\nCreate a new string object from the given object. If encoding or\nerrors is specified, then the object must expose a data buffer\nthat will be decoded using the given encoding and error handler.\nOtherwise, returns the result of object.__str__() (if defined)\nor repr(object).\nencoding defaults to sys.getdefaultencoding().\nerrors defaults to 'strict'."
     ]
    }
   ],
   "source": [
    "f(-2)"
   ]
  },
  {
   "cell_type": "code",
   "execution_count": 7,
   "id": "major-information",
   "metadata": {},
   "outputs": [
    {
     "ename": "InputContractException",
     "evalue": "\n\nContract violating arguments:\n\nx: hello\nstr(object='') -> str\nstr(bytes_or_buffer[, encoding[, errors]]) -> str\n\nCreate a new string object from the given object. If encoding or\nerrors is specified, then the object must expose a data buffer\nthat will be decoded using the given encoding and error handler.\nOtherwise, returns the result of object.__str__() (if defined)\nor repr(object).\nencoding defaults to sys.getdefaultencoding().\nerrors defaults to 'strict'.",
     "output_type": "error",
     "traceback": [
      "\u001b[0;31m---------------------------------------------------------------------------\u001b[0m",
      "\u001b[0;31mInputContractException\u001b[0m                    Traceback (most recent call last)",
      "\u001b[0;32m<ipython-input-7-c858d3209780>\u001b[0m in \u001b[0;36m<module>\u001b[0;34m\u001b[0m\n\u001b[0;32m----> 1\u001b[0;31m \u001b[0mf\u001b[0m\u001b[0;34m(\u001b[0m\u001b[0;34m\"hello\"\u001b[0m\u001b[0;34m)\u001b[0m\u001b[0;34m\u001b[0m\u001b[0;34m\u001b[0m\u001b[0m\n\u001b[0m",
      "\u001b[0;32m/Library/Frameworks/Python.framework/Versions/3.6/lib/python3.6/site-packages/contracts/contracts.py\u001b[0m in \u001b[0;36mdecorated\u001b[0;34m(*args, **kwargs)\u001b[0m\n\u001b[1;32m     28\u001b[0m \u001b[0;34m\u001b[0m\u001b[0m\n\u001b[1;32m     29\u001b[0m             \u001b[0;32mif\u001b[0m \u001b[0mlen\u001b[0m\u001b[0;34m(\u001b[0m\u001b[0merror_params_args\u001b[0m\u001b[0;34m)\u001b[0m \u001b[0;32mis\u001b[0m \u001b[0;32mnot\u001b[0m \u001b[0;36m0\u001b[0m\u001b[0;34m:\u001b[0m\u001b[0;34m\u001b[0m\u001b[0;34m\u001b[0m\u001b[0m\n\u001b[0;32m---> 30\u001b[0;31m                 \u001b[0;32mraise\u001b[0m \u001b[0mInputContractException\u001b[0m\u001b[0;34m(\u001b[0m\u001b[0merror_params_args\u001b[0m\u001b[0;34m,\u001b[0m \u001b[0mcontracts\u001b[0m\u001b[0;34m)\u001b[0m\u001b[0;34m\u001b[0m\u001b[0;34m\u001b[0m\u001b[0m\n\u001b[0m\u001b[1;32m     31\u001b[0m             \u001b[0;32mreturn\u001b[0m \u001b[0mfunc\u001b[0m\u001b[0;34m(\u001b[0m\u001b[0;34m*\u001b[0m\u001b[0margs\u001b[0m\u001b[0;34m,\u001b[0m \u001b[0;34m**\u001b[0m\u001b[0mkwargs\u001b[0m\u001b[0;34m)\u001b[0m\u001b[0;34m\u001b[0m\u001b[0;34m\u001b[0m\u001b[0m\n\u001b[1;32m     32\u001b[0m \u001b[0;34m\u001b[0m\u001b[0m\n",
      "\u001b[0;31mInputContractException\u001b[0m: \n\nContract violating arguments:\n\nx: hello\nstr(object='') -> str\nstr(bytes_or_buffer[, encoding[, errors]]) -> str\n\nCreate a new string object from the given object. If encoding or\nerrors is specified, then the object must expose a data buffer\nthat will be decoded using the given encoding and error handler.\nOtherwise, returns the result of object.__str__() (if defined)\nor repr(object).\nencoding defaults to sys.getdefaultencoding().\nerrors defaults to 'strict'."
     ]
    }
   ],
   "source": [
    "f(\"hello\")"
   ]
  },
  {
   "cell_type": "markdown",
   "id": "restricted-niger",
   "metadata": {},
   "source": [
    "# Проверка постусловий"
   ]
  },
  {
   "cell_type": "code",
   "execution_count": 12,
   "id": "planned-brazilian",
   "metadata": {},
   "outputs": [],
   "source": [
    "@ic(returns='int,>=0')\n",
    "def f(x):\n",
    "    return x"
   ]
  },
  {
   "cell_type": "code",
   "execution_count": 13,
   "id": "peaceful-express",
   "metadata": {},
   "outputs": [
    {
     "data": {
      "text/plain": [
       "'eeee'"
      ]
     },
     "execution_count": 13,
     "metadata": {},
     "output_type": "execute_result"
    }
   ],
   "source": [
    "f('eeee')"
   ]
  },
  {
   "cell_type": "code",
   "execution_count": 10,
   "id": "primary-missouri",
   "metadata": {},
   "outputs": [
    {
     "data": {
      "text/plain": [
       "-222"
      ]
     },
     "execution_count": 10,
     "metadata": {},
     "output_type": "execute_result"
    }
   ],
   "source": [
    "f(-222)"
   ]
  },
  {
   "cell_type": "markdown",
   "id": "suspended-olive",
   "metadata": {},
   "source": [
    "# Три варианта описания контракта функции"
   ]
  },
  {
   "cell_type": "markdown",
   "id": "greek-remove",
   "metadata": {},
   "source": [
    "1. Через декоратор input_contract:"
   ]
  },
  {
   "cell_type": "code",
   "execution_count": 14,
   "id": "cardiac-waters",
   "metadata": {},
   "outputs": [],
   "source": [
    "@ic(n='int,>=0', returns='int,>=0') #input_contract\n",
    "def f1(n):\n",
    "    pass"
   ]
  },
  {
   "cell_type": "markdown",
   "id": "compatible-creek",
   "metadata": {},
   "source": [
    "2. Описание в документ-строке"
   ]
  },
  {
   "cell_type": "code",
   "execution_count": 16,
   "id": "administrative-navigation",
   "metadata": {},
   "outputs": [],
   "source": [
    "@oc #output_contract\n",
    "def f2(n):\n",
    "    \"\"\" Function description.\n",
    "        :type n: int,>=0\n",
    "        :rtype: int,>=0\n",
    "    \"\"\"\n",
    "    pass"
   ]
  },
  {
   "cell_type": "markdown",
   "id": "moved-fancy",
   "metadata": {},
   "source": [
    "3. Через аннотацию типов:"
   ]
  },
  {
   "cell_type": "code",
   "execution_count": 18,
   "id": "immune-sullivan",
   "metadata": {},
   "outputs": [],
   "source": [
    "@oc\n",
    "def f3(n:'int,>=0') -> 'int,>=0':\n",
    "    pass"
   ]
  },
  {
   "cell_type": "markdown",
   "id": "cubic-english",
   "metadata": {},
   "source": [
    "Использование декоратора - самый традиционный способ описания контракта. Аннотация типов - самый короткий способ использвания Pycontracts"
   ]
  },
  {
   "cell_type": "markdown",
   "id": "balanced-drama",
   "metadata": {},
   "source": [
    "# Язык описания контрактов PyContracts"
   ]
  },
  {
   "cell_type": "markdown",
   "id": "agreed-terrorism",
   "metadata": {},
   "source": [
    "Логическое И: если нужно проверить несколько условий, их можно просто записать через запятую:"
   ]
  },
  {
   "cell_type": "code",
   "execution_count": 19,
   "id": "ordered-garden",
   "metadata": {},
   "outputs": [],
   "source": [
    "@ic(x='>=0,<=1')\n",
    "def f(x):\n",
    "    pass"
   ]
  },
  {
   "cell_type": "markdown",
   "id": "governing-valentine",
   "metadata": {},
   "source": [
    "Логическое ИЛИ: вертикальная черта:"
   ]
  },
  {
   "cell_type": "code",
   "execution_count": 20,
   "id": "assured-welcome",
   "metadata": {},
   "outputs": [],
   "source": [
    "@ic(x='<0|>1')\n",
    "def f(x):\n",
    "    pass\n",
    "\n",
    "@ic(x='(int|float),>=0')\n",
    "def f(x):\n",
    "    pass"
   ]
  },
  {
   "cell_type": "markdown",
   "id": "incomplete-express",
   "metadata": {},
   "source": [
    "Для списков возможны требования как к длине, так и к типу элементов и их значениям:\n",
    "\n",
    "list[length contract](elements contract)\n",
    "\n",
    "Примеры:\n",
    "\n",
    "list[>0] — непустой список.\n",
    "\n",
    "list(int) — список целых чисел, возможно пустой.\n",
    "\n",
    "list(int,>0) — список положительных целых, возможно пустой.\n",
    "\n",
    "list[>0,<=100](int,>0,<=1000) — непустой список из не более ста положительных целых чисел, не превышающих по значению тысячу.\n",
    "\n",
    "Для словарей также можно ввести требования к их размеру, а также к типу ключа и/или типу значения:\n",
    "\n",
    "dict[length contract](key contract: value contract)\n",
    "\n",
    "Примеры:\n",
    "\n",
    "dict[>0] — непустой словарь.\n",
    "\n",
    "dict(str:*) — словарь со строками в качестве ключей и любыми типами значений.\n",
    "\n",
    "dict[>0](str:(int,>0)) — непустой словарь с ключами-строками и положительными целочисленными значениями."
   ]
  },
  {
   "cell_type": "markdown",
   "id": "aggressive-token",
   "metadata": {},
   "source": [
    "# Описание нового контракта"
   ]
  },
  {
   "cell_type": "markdown",
   "id": "strong-claim",
   "metadata": {},
   "source": [
    "При помощи декоратора можно создать новый вид контракта"
   ]
  },
  {
   "cell_type": "code",
   "execution_count": 23,
   "id": "acquired-friend",
   "metadata": {},
   "outputs": [
    {
     "ename": "NameError",
     "evalue": "name 'new_ic' is not defined",
     "output_type": "error",
     "traceback": [
      "\u001b[0;31m---------------------------------------------------------------------------\u001b[0m",
      "\u001b[0;31mNameError\u001b[0m                                 Traceback (most recent call last)",
      "\u001b[0;32m<ipython-input-23-ccf6c4c06811>\u001b[0m in \u001b[0;36m<module>\u001b[0;34m\u001b[0m\n\u001b[0;32m----> 1\u001b[0;31m \u001b[0;34m@\u001b[0m\u001b[0mnew_ic\u001b[0m\u001b[0;34m\u001b[0m\u001b[0;34m\u001b[0m\u001b[0m\n\u001b[0m\u001b[1;32m      2\u001b[0m \u001b[0;32mdef\u001b[0m \u001b[0meven\u001b[0m\u001b[0;34m(\u001b[0m\u001b[0mx\u001b[0m\u001b[0;34m)\u001b[0m\u001b[0;34m:\u001b[0m\u001b[0;34m\u001b[0m\u001b[0;34m\u001b[0m\u001b[0m\n\u001b[1;32m      3\u001b[0m     \u001b[0;32mif\u001b[0m \u001b[0mx\u001b[0m \u001b[0;34m%\u001b[0m \u001b[0;36m2\u001b[0m \u001b[0;34m!=\u001b[0m \u001b[0;36m0\u001b[0m\u001b[0;34m:\u001b[0m\u001b[0;34m\u001b[0m\u001b[0;34m\u001b[0m\u001b[0m\n\u001b[1;32m      4\u001b[0m         \u001b[0mmsg\u001b[0m \u001b[0;34m=\u001b[0m \u001b[0;34m'The number %d is not even.'\u001b[0m \u001b[0;34m%\u001b[0m \u001b[0mx\u001b[0m\u001b[0;34m\u001b[0m\u001b[0;34m\u001b[0m\u001b[0m\n\u001b[1;32m      5\u001b[0m         \u001b[0;32mraise\u001b[0m \u001b[0mValueError\u001b[0m\u001b[0;34m(\u001b[0m\u001b[0mmsg\u001b[0m\u001b[0;34m)\u001b[0m\u001b[0;34m\u001b[0m\u001b[0;34m\u001b[0m\u001b[0m\n",
      "\u001b[0;31mNameError\u001b[0m: name 'new_ic' is not defined"
     ]
    }
   ],
   "source": [
    "@new_ic\n",
    "def even(x):\n",
    "    if x % 2 != 0:\n",
    "        msg = 'The number %d is not even.' % x\n",
    "        raise ValueError(msg)"
   ]
  },
  {
   "cell_type": "markdown",
   "id": "roman-alabama",
   "metadata": {},
   "source": [
    "После этого его можно использовать как и обычный:"
   ]
  },
  {
   "cell_type": "code",
   "execution_count": 25,
   "id": "opponent-increase",
   "metadata": {},
   "outputs": [],
   "source": [
    "@ic(x='int,even')\n",
    "def foo(x):\n",
    "    pass"
   ]
  },
  {
   "cell_type": "markdown",
   "id": "ready-forth",
   "metadata": {},
   "source": [
    "Можно создать новый вид контракта и так:"
   ]
  },
  {
   "cell_type": "code",
   "execution_count": 28,
   "id": "absolute-meditation",
   "metadata": {},
   "outputs": [
    {
     "ename": "NameError",
     "evalue": "name 'input_contract' is not defined",
     "output_type": "error",
     "traceback": [
      "\u001b[0;31m---------------------------------------------------------------------------\u001b[0m",
      "\u001b[0;31mNameError\u001b[0m                                 Traceback (most recent call last)",
      "\u001b[0;32m<ipython-input-28-64dc201bee63>\u001b[0m in \u001b[0;36m<module>\u001b[0;34m\u001b[0m\n\u001b[0;32m----> 1\u001b[0;31m \u001b[0minput_contract\u001b[0m\u001b[0;34m(\u001b[0m\u001b[0;34m'short_list'\u001b[0m\u001b[0;34m,\u001b[0m \u001b[0;34m'list[N],N>0,N<=10'\u001b[0m\u001b[0;34m)\u001b[0m\u001b[0;34m\u001b[0m\u001b[0;34m\u001b[0m\u001b[0m\n\u001b[0m\u001b[1;32m      2\u001b[0m \u001b[0;34m\u001b[0m\u001b[0m\n\u001b[1;32m      3\u001b[0m \u001b[0;34m@\u001b[0m\u001b[0mcontract\u001b[0m\u001b[0;34m(\u001b[0m\u001b[0ma\u001b[0m\u001b[0;34m=\u001b[0m\u001b[0;34m'short_list'\u001b[0m\u001b[0;34m)\u001b[0m\u001b[0;34m\u001b[0m\u001b[0;34m\u001b[0m\u001b[0m\n\u001b[1;32m      4\u001b[0m \u001b[0;32mdef\u001b[0m \u001b[0mbubble_sort\u001b[0m\u001b[0;34m(\u001b[0m\u001b[0ma\u001b[0m\u001b[0;34m)\u001b[0m\u001b[0;34m:\u001b[0m\u001b[0;34m\u001b[0m\u001b[0;34m\u001b[0m\u001b[0m\n\u001b[1;32m      5\u001b[0m     \u001b[0;32mfor\u001b[0m \u001b[0mbypass\u001b[0m \u001b[0;32min\u001b[0m \u001b[0mrange\u001b[0m\u001b[0;34m(\u001b[0m\u001b[0mlen\u001b[0m\u001b[0;34m(\u001b[0m\u001b[0ma\u001b[0m\u001b[0;34m)\u001b[0m\u001b[0;34m-\u001b[0m\u001b[0;36m1\u001b[0m\u001b[0;34m)\u001b[0m\u001b[0;34m:\u001b[0m\u001b[0;34m\u001b[0m\u001b[0;34m\u001b[0m\u001b[0m\n",
      "\u001b[0;31mNameError\u001b[0m: name 'input_contract' is not defined"
     ]
    }
   ],
   "source": [
    "new_contract('short_list', 'list[N],N>0,N<=10')\n",
    "\n",
    "@contract(a='short_list')\n",
    "def bubble_sort(a):\n",
    "    for bypass in range(len(a)-1):\n",
    "        for i in range(len(a)-1-bypass):\n",
    "            if a[i] > a[i+1]:\n",
    "                a[i], a[i+1] = a[i+1], a[i]"
   ]
  },
  {
   "cell_type": "markdown",
   "id": "partial-procurement",
   "metadata": {},
   "source": [
    "# Связывание значений различных параметров"
   ]
  },
  {
   "cell_type": "markdown",
   "id": "billion-protection",
   "metadata": {},
   "source": [
    "В языке описания контрактов PyContracts используются переменные:\n",
    "\n",
    "строчные латинские буквы — для любых объектов\n",
    "заглавные латинские буквы — для целых чисел\n",
    "Пример такой связки:"
   ]
  },
  {
   "cell_type": "code",
   "execution_count": 29,
   "id": "direct-baker",
   "metadata": {},
   "outputs": [],
   "source": [
    "@ic(words='list[N](str),N>0',\n",
    "          returns='list[N](>=0)')\n",
    "def get_words_lengths(words):\n",
    "    return [len(word) for word in words]"
   ]
  },
  {
   "cell_type": "markdown",
   "id": "coordinated-truth",
   "metadata": {},
   "source": [
    "В этом примере контракт проверит не только то, что возвращается тип list, но и то, что этот список имеет ту же длину, что и переданный ей список words."
   ]
  },
  {
   "cell_type": "code",
   "execution_count": 31,
   "id": "active-vitamin",
   "metadata": {},
   "outputs": [
    {
     "name": "stdout",
     "output_type": "stream",
     "text": [
      "Enter positive number, please: -2\n"
     ]
    },
    {
     "ename": "AssertionError",
     "evalue": "Value should be positive!",
     "output_type": "error",
     "traceback": [
      "\u001b[0;31m---------------------------------------------------------------------------\u001b[0m",
      "\u001b[0;31mAssertionError\u001b[0m                            Traceback (most recent call last)",
      "\u001b[0;32m<ipython-input-31-aa4740f362c7>\u001b[0m in \u001b[0;36m<module>\u001b[0;34m\u001b[0m\n\u001b[1;32m      1\u001b[0m \u001b[0mx\u001b[0m \u001b[0;34m=\u001b[0m \u001b[0mint\u001b[0m\u001b[0;34m(\u001b[0m\u001b[0minput\u001b[0m\u001b[0;34m(\u001b[0m\u001b[0;34m\"Enter positive number, please: \"\u001b[0m\u001b[0;34m)\u001b[0m\u001b[0;34m)\u001b[0m\u001b[0;34m\u001b[0m\u001b[0;34m\u001b[0m\u001b[0m\n\u001b[0;32m----> 2\u001b[0;31m \u001b[0;32massert\u001b[0m \u001b[0mx\u001b[0m \u001b[0;34m>\u001b[0m \u001b[0;36m0\u001b[0m\u001b[0;34m,\u001b[0m \u001b[0;34m\"Value should be positive!\"\u001b[0m\u001b[0;34m\u001b[0m\u001b[0;34m\u001b[0m\u001b[0m\n\u001b[0m",
      "\u001b[0;31mAssertionError\u001b[0m: Value should be positive!"
     ]
    }
   ],
   "source": [
    "x = int(input(\"Enter positive number, please: \"))\n",
    "assert x > 0, \"Value should be positive!\""
   ]
  },
  {
   "cell_type": "code",
   "execution_count": 42,
   "id": "sudden-symbol",
   "metadata": {},
   "outputs": [],
   "source": [
    "def gcd(a, b):\n",
    "  assert (isinstance(a, int) and a>0 and isinstance(b,int) and b>0)\n",
    "  while b != 0:\n",
    "    r = a % b\n",
    "    b = a\n",
    "    a = r\n",
    "  return a"
   ]
  },
  {
   "cell_type": "code",
   "execution_count": 43,
   "id": "respective-fisher",
   "metadata": {},
   "outputs": [
    {
     "ename": "AssertionError",
     "evalue": "",
     "output_type": "error",
     "traceback": [
      "\u001b[0;31m---------------------------------------------------------------------------\u001b[0m",
      "\u001b[0;31mAssertionError\u001b[0m                            Traceback (most recent call last)",
      "\u001b[0;32m<ipython-input-43-a417257fbb7d>\u001b[0m in \u001b[0;36m<module>\u001b[0;34m\u001b[0m\n\u001b[0;32m----> 1\u001b[0;31m \u001b[0mgcd\u001b[0m\u001b[0;34m(\u001b[0m\u001b[0;36m0\u001b[0m\u001b[0;34m,\u001b[0m\u001b[0;36m2\u001b[0m\u001b[0;34m)\u001b[0m\u001b[0;34m\u001b[0m\u001b[0;34m\u001b[0m\u001b[0m\n\u001b[0m",
      "\u001b[0;32m<ipython-input-42-044a83ec7ef2>\u001b[0m in \u001b[0;36mgcd\u001b[0;34m(a, b)\u001b[0m\n\u001b[1;32m      1\u001b[0m \u001b[0;32mdef\u001b[0m \u001b[0mgcd\u001b[0m\u001b[0;34m(\u001b[0m\u001b[0ma\u001b[0m\u001b[0;34m,\u001b[0m \u001b[0mb\u001b[0m\u001b[0;34m)\u001b[0m\u001b[0;34m:\u001b[0m\u001b[0;34m\u001b[0m\u001b[0;34m\u001b[0m\u001b[0m\n\u001b[0;32m----> 2\u001b[0;31m   \u001b[0;32massert\u001b[0m \u001b[0;34m(\u001b[0m\u001b[0misinstance\u001b[0m\u001b[0;34m(\u001b[0m\u001b[0ma\u001b[0m\u001b[0;34m,\u001b[0m \u001b[0mint\u001b[0m\u001b[0;34m)\u001b[0m \u001b[0;32mand\u001b[0m \u001b[0ma\u001b[0m\u001b[0;34m>\u001b[0m\u001b[0;36m0\u001b[0m \u001b[0;32mand\u001b[0m \u001b[0misinstance\u001b[0m\u001b[0;34m(\u001b[0m\u001b[0mb\u001b[0m\u001b[0;34m,\u001b[0m\u001b[0mint\u001b[0m\u001b[0;34m)\u001b[0m \u001b[0;32mand\u001b[0m \u001b[0mb\u001b[0m\u001b[0;34m>\u001b[0m\u001b[0;36m0\u001b[0m\u001b[0;34m)\u001b[0m\u001b[0;34m\u001b[0m\u001b[0;34m\u001b[0m\u001b[0m\n\u001b[0m\u001b[1;32m      3\u001b[0m   \u001b[0;32mwhile\u001b[0m \u001b[0mb\u001b[0m \u001b[0;34m!=\u001b[0m \u001b[0;36m0\u001b[0m\u001b[0;34m:\u001b[0m\u001b[0;34m\u001b[0m\u001b[0;34m\u001b[0m\u001b[0m\n\u001b[1;32m      4\u001b[0m     \u001b[0mr\u001b[0m \u001b[0;34m=\u001b[0m \u001b[0ma\u001b[0m \u001b[0;34m%\u001b[0m \u001b[0mb\u001b[0m\u001b[0;34m\u001b[0m\u001b[0;34m\u001b[0m\u001b[0m\n\u001b[1;32m      5\u001b[0m     \u001b[0mb\u001b[0m \u001b[0;34m=\u001b[0m \u001b[0ma\u001b[0m\u001b[0;34m\u001b[0m\u001b[0;34m\u001b[0m\u001b[0m\n",
      "\u001b[0;31mAssertionError\u001b[0m: "
     ]
    }
   ],
   "source": [
    "gcd(0,2)"
   ]
  },
  {
   "cell_type": "code",
   "execution_count": null,
   "id": "cross-fancy",
   "metadata": {},
   "outputs": [],
   "source": []
  }
 ],
 "metadata": {
  "kernelspec": {
   "display_name": "Python 3",
   "language": "python",
   "name": "python3"
  },
  "language_info": {
   "codemirror_mode": {
    "name": "ipython",
    "version": 3
   },
   "file_extension": ".py",
   "mimetype": "text/x-python",
   "name": "python",
   "nbconvert_exporter": "python",
   "pygments_lexer": "ipython3",
   "version": "3.6.8"
  }
 },
 "nbformat": 4,
 "nbformat_minor": 5
}
