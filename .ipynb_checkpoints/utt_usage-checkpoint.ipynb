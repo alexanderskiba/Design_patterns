{
 "cells": [
  {
   "cell_type": "code",
   "execution_count": 1,
   "id": "professional-classics",
   "metadata": {},
   "outputs": [],
   "source": [
    "import unittest"
   ]
  },
  {
   "cell_type": "markdown",
   "id": "selected-borough",
   "metadata": {},
   "source": [
    "## Тестовый случай"
   ]
  },
  {
   "cell_type": "code",
   "execution_count": 3,
   "id": "invalid-turtle",
   "metadata": {},
   "outputs": [],
   "source": [
    "class MyTest(unittest.TestCase):\n",
    "    def test_usage(self):\n",
    "        self.assertEqual(2+2, 4)"
   ]
  },
  {
   "cell_type": "markdown",
   "id": "occupational-integration",
   "metadata": {},
   "source": [
    "Обратите внимание, что:\n",
    "\n",
    "класс тестового случая — потомок unittest.TestCase;\n",
    "тестирующий метод начинается со слова «test»;\n",
    "для проверки утверждения используется метод self.assertEqual().\n",
    "Если не соблюдать эти правила, то ваш метод либо не будет выполнен, либо ошибка не будет корректно обработана."
   ]
  },
  {
   "cell_type": "markdown",
   "id": "adverse-intermediate",
   "metadata": {},
   "source": [
    "## Пример тестового случая"
   ]
  },
  {
   "cell_type": "markdown",
   "id": "narrow-novelty",
   "metadata": {},
   "source": [
    "Оформим тестирование сортировки методом пузырька в тестовый случай unittest. При этом воспользуемся сравнением assertCountEqual(a, b) и проверкой упорядоченности списка a за один проход по нему."
   ]
  },
  {
   "cell_type": "code",
   "execution_count": 4,
   "id": "friendly-certificate",
   "metadata": {},
   "outputs": [
    {
     "name": "stderr",
     "output_type": "stream",
     "text": [
      "E\n",
      "======================================================================\n",
      "ERROR: /Users/aleksandrskiba/Library/Jupyter/runtime/kernel-3476a5cb-881f-4fba-b6b2-574ad616e3c1 (unittest.loader._FailedTest)\n",
      "----------------------------------------------------------------------\n",
      "AttributeError: module '__main__' has no attribute '/Users/aleksandrskiba/Library/Jupyter/runtime/kernel-3476a5cb-881f-4fba-b6b2-574ad616e3c1'\n",
      "\n",
      "----------------------------------------------------------------------\n",
      "Ran 1 test in 0.002s\n",
      "\n",
      "FAILED (errors=1)\n"
     ]
    },
    {
     "ename": "SystemExit",
     "evalue": "True",
     "output_type": "error",
     "traceback": [
      "An exception has occurred, use %tb to see the full traceback.\n",
      "\u001b[0;31mSystemExit\u001b[0m\u001b[0;31m:\u001b[0m True\n"
     ]
    },
    {
     "name": "stderr",
     "output_type": "stream",
     "text": [
      "/Library/Frameworks/Python.framework/Versions/3.6/lib/python3.6/site-packages/IPython/core/interactiveshell.py:3351: UserWarning: To exit: use 'exit', 'quit', or Ctrl-D.\n",
      "  warn(\"To exit: use 'exit', 'quit', or Ctrl-D.\", stacklevel=1)\n"
     ]
    }
   ],
   "source": [
    "import unittest\n",
    "\n",
    "\n",
    "def sort_algorithm(A: list):\n",
    "    pass  # FIXME\n",
    "\n",
    "\n",
    "def is_not_in_descending_order(a):\n",
    "    \"\"\"\n",
    "    Check if the list a is not descending (means \"rather ascending\")\n",
    "    \"\"\"\n",
    "    for i in range(len(a)-1):\n",
    "        if a[i] > a[i+1]:\n",
    "            return False\n",
    "    return True\n",
    "\n",
    "\n",
    "class TestSort(unittest.TestCase):\n",
    "    def test_simple_cases(self):\n",
    "        cases = ([1], [], [1, 2], [1, 2, 3, 4, 5], \n",
    "                 [4, 2, 5, 1, 3], [5, 4, 4, 5, 5],\n",
    "                 list(range(10)), list(range(10, 0, -1)))\n",
    "        for b in cases:\n",
    "            a = list(b)\n",
    "            sort_algorithm(a)\n",
    "            self.assertCountEqual(a, b)\n",
    "            self.assertTrue(is_not_in_descending_order(a))\n",
    "\n",
    "\n",
    "if True: #__name__ == \"__main__\":\n",
    "    unittest.main()"
   ]
  },
  {
   "cell_type": "markdown",
   "id": "prime-reflection",
   "metadata": {},
   "source": [
    "Запуск данного теста конечно покажет нам ошибку, но не будет ясно, при каком конкретно случае она случилась.\n",
    "\n",
    "Запустите интерактивный код выше и посмотрите на ошибку. Можете написать свою версию сортировки и посмотреть на результаты тестирования.\n",
    "\n",
    "Обратите внимание на вызов unittest.main(), которая запускает все тесты из данного модуля. В данном случае она запускается всегда (if True), чтобы вы могли посмотреть код в интерактивном режиме."
   ]
  },
  {
   "cell_type": "markdown",
   "id": "polished-gravity",
   "metadata": {},
   "source": [
    "## Варианты методов assert"
   ]
  },
  {
   "cell_type": "markdown",
   "id": "hindu-blond",
   "metadata": {},
   "source": [
    "    Вариант assert\t           Что проверяет\n",
    "    assertEqual(a, b)\t      a == b\n",
    "    assertNotEqual(a, b)\t  a != b\n",
    "    assertTrue(x)\t          bool(x) is True\n",
    "    assertFalse(x)\t          bool(x) is False\n",
    "    assertIs(a, b)\t          a is b\n",
    "    assertIsNot(a, b)\t      a is not b\n",
    "    assertIsNone(x)\t          x is None\n",
    "    assertIsNotNone(x)\t      x is not None\n",
    "    assertIn(a, b)\t          a in b\n",
    "    assertNotIn(a, b)\t      a not in b\n",
    "    assertIsInstance(a, b)\t  isinstance(a, b)\n",
    "    assertNotIsInstance(a, b) not isinstance(a, b)                "
   ]
  },
  {
   "cell_type": "markdown",
   "id": "welsh-newsletter",
   "metadata": {},
   "source": [
    "Заметим, что assertEqual(a, b) для строк, последовательностей, списков, кортежей, множеств и словарей осуществляет специализированную по типу проверку.\n",
    "\n",
    "Есть также проверки, проводящие сравнение и проверки включения:"
   ]
  },
  {
   "cell_type": "markdown",
   "id": "intimate-ladder",
   "metadata": {},
   "source": [
    "    Вариант assert\tЧто проверяет\n",
    "    assertAlmostEqual(a, b)\tround(a-b, 7) == 0\n",
    "    assertNotAlmostEqual(a, b)\tround(a-b, 7) != 0\n",
    "    assertGreater(a, b)\ta > b\n",
    "    assertGreaterEqual(a, b)\ta >= b\n",
    "    assertLess(a, b)\ta < b\n",
    "    assertLessEqual(a, b)\ta <= b\n",
    "    assertRegex(s, r)\tr.search(s)\n",
    "    assertNotRegex(s, r)\tnot r.search(s)\n",
    "    assertCountEqual(a, b)                 \tконтейнеры равны с точностью до порядка элементов "
   ]
  },
  {
   "cell_type": "markdown",
   "id": "comparable-truck",
   "metadata": {},
   "source": [
    "## Выделение подслучая"
   ]
  },
  {
   "cell_type": "markdown",
   "id": "minus-ferry",
   "metadata": {},
   "source": [
    "Для выделения конкретной ситуации, в рамках которой произошла ошибка, удобно использовать метод self.subTest():"
   ]
  },
  {
   "cell_type": "code",
   "execution_count": 6,
   "id": "serial-array",
   "metadata": {},
   "outputs": [],
   "source": [
    "class TestSort(unittest.TestCase):\n",
    "    def test_simple_cases(self):\n",
    "        cases = ([1], [], [1, 2], [1, 2, 3, 4, 5], \n",
    "                 [4, 2, 5, 1, 3], [5, 4, 4, 5, 5],\n",
    "                 list(range(1, 10)), list(range(9, 0, -1)))\n",
    "        for b in cases:\n",
    "            with self.subTest(case=b):\n",
    "                a = list(b)\n",
    "                sort_algorithm(a)\n",
    "                self.assertCountEqual(a, b)\n",
    "                self.assertTrue(is_not_in_descending_order(a))"
   ]
  },
  {
   "cell_type": "markdown",
   "id": "moved-contact",
   "metadata": {},
   "source": [
    "## Тестирование возбуждения исключений\n"
   ]
  },
  {
   "cell_type": "markdown",
   "id": "short-charter",
   "metadata": {},
   "source": [
    "Хороший программный код должен быть устойчивым в тех случаях, когда его используют с некорректными параметрами. В частности, метод или функция должны возбуждать определённое исключение, когда возникает конкретная внештатная ситуация"
   ]
  },
  {
   "cell_type": "code",
   "execution_count": 7,
   "id": "breeding-marker",
   "metadata": {},
   "outputs": [
    {
     "ename": "NameError",
     "evalue": "name 'self' is not defined",
     "output_type": "error",
     "traceback": [
      "\u001b[0;31m---------------------------------------------------------------------------\u001b[0m",
      "\u001b[0;31mNameError\u001b[0m                                 Traceback (most recent call last)",
      "\u001b[0;32m<ipython-input-7-aa5e2e0ccdee>\u001b[0m in \u001b[0;36m<module>\u001b[0;34m\u001b[0m\n\u001b[0;32m----> 1\u001b[0;31m \u001b[0mself\u001b[0m\u001b[0;34m.\u001b[0m\u001b[0massertRaises\u001b[0m\u001b[0;34m(\u001b[0m\u001b[0mValueError\u001b[0m\u001b[0;34m,\u001b[0m \u001b[0mmath\u001b[0m\u001b[0;34m.\u001b[0m\u001b[0msqrt\u001b[0m\u001b[0;34m,\u001b[0m \u001b[0;34m-\u001b[0m\u001b[0;36m1\u001b[0m\u001b[0;34m)\u001b[0m\u001b[0;34m\u001b[0m\u001b[0;34m\u001b[0m\u001b[0m\n\u001b[0m",
      "\u001b[0;31mNameError\u001b[0m: name 'self' is not defined"
     ]
    }
   ],
   "source": [
    "self.assertRaises(ValueError, math.sqrt, -1)"
   ]
  },
  {
   "cell_type": "markdown",
   "id": "turkish-accommodation",
   "metadata": {},
   "source": [
    "Обратите внимание, что при использовании assertRaises нельзя вызывать функцию. Мы передаём ему ссылку на функцию и её параметры, чтобы она была вызвана уже внутри метода assertRaises, описанного в библиотеке unittest.\n",
    "\n",
    "Если тестируемая функция не вызывает ожидаемого исключения, это считается ошибкой:"
   ]
  },
  {
   "cell_type": "code",
   "execution_count": 9,
   "id": "immune-coffee",
   "metadata": {},
   "outputs": [
    {
     "name": "stderr",
     "output_type": "stream",
     "text": [
      "E\n",
      "======================================================================\n",
      "ERROR: /Users/aleksandrskiba/Library/Jupyter/runtime/kernel-3476a5cb-881f-4fba-b6b2-574ad616e3c1 (unittest.loader._FailedTest)\n",
      "----------------------------------------------------------------------\n",
      "AttributeError: module '__main__' has no attribute '/Users/aleksandrskiba/Library/Jupyter/runtime/kernel-3476a5cb-881f-4fba-b6b2-574ad616e3c1'\n",
      "\n",
      "----------------------------------------------------------------------\n",
      "Ran 1 test in 0.002s\n",
      "\n",
      "FAILED (errors=1)\n"
     ]
    },
    {
     "ename": "SystemExit",
     "evalue": "True",
     "output_type": "error",
     "traceback": [
      "An exception has occurred, use %tb to see the full traceback.\n",
      "\u001b[0;31mSystemExit\u001b[0m\u001b[0;31m:\u001b[0m True\n"
     ]
    },
    {
     "name": "stderr",
     "output_type": "stream",
     "text": [
      "/Library/Frameworks/Python.framework/Versions/3.6/lib/python3.6/site-packages/IPython/core/interactiveshell.py:3351: UserWarning: To exit: use 'exit', 'quit', or Ctrl-D.\n",
      "  warn(\"To exit: use 'exit', 'quit', or Ctrl-D.\", stacklevel=1)\n"
     ]
    }
   ],
   "source": [
    "import unittest\n",
    "\n",
    "\n",
    "def fib(n):\n",
    "    return n if n <= 1 else fib(n-1) + fib(n-2)\n",
    "\n",
    "\n",
    "class ExceptionTest(unittest.TestCase):\n",
    "    def test_raises(self):\n",
    "        self.assertRaises(ValueError, fib, -1)\n",
    "\n",
    "\n",
    "# if __name__=='__main__':\n",
    "    unittest.main()"
   ]
  },
  {
   "cell_type": "markdown",
   "id": "consecutive-forum",
   "metadata": {},
   "source": [
    "## Среда исполнения теста\n",
    "Для проведения теста нужно создание определённых тестовых условий, определённого состояния среды исполнения теста (Test fixture). Например, нужно создать и заполнить определённым образом базу данных, необходимую для проведения операций, подвергающихся проверке. Или же проводится тестирование некоего класса A, использующего объект класса B, который использует объект класса C. В этом случае требуется создать и инициализировать эти объекты.\n",
    "\n",
    "Базовые правила тестирования:\n",
    "\n",
    "Работа теста не должна зависеть от результатов работы других тестов.\n",
    "Тест должен использовать данные, специально для него подготовленные, и никакие другие.\n",
    "Поскольку предыдущие тесты могут повлиять на среду исполнения, её нужно уничтожать и создавать заново для каждого тестового случая. Для этого используются автоматически вызываемые методы setUp() и tearDown():"
   ]
  },
  {
   "cell_type": "code",
   "execution_count": 10,
   "id": "detailed-hierarchy",
   "metadata": {},
   "outputs": [],
   "source": [
    "class TestSort(unittest.TestCase):\n",
    "    def setUp(self):\n",
    "        self.cases = ([1], [], [1, 2], [1, 2, 3, 4, 5], \n",
    "                      [4, 2, 5, 1, 3], [5, 4, 4, 5, 5],\n",
    "                      list(range(1, 10)), list(range(9, 0, -1)))\n",
    "        \n",
    "    def test_simple_cases(self):\n",
    "        for b in self.cases:\n",
    "            with self.subTest(case=b):\n",
    "                a = list(b)\n",
    "                sort_algorithm(a)\n",
    "                self.assertCountEqual(a, b,\n",
    "                                      msg=\"Elements changed. a = \"+str(a))\n",
    "                self.assertTrue(is_not_in_descending_order(a),\n",
    "                                msg=\"List not sorted. a = \"+str(a))\n",
    "                \n",
    "    def tearDown(self):\n",
    "        self.cases = None"
   ]
  },
  {
   "cell_type": "code",
   "execution_count": 11,
   "id": "public-field",
   "metadata": {},
   "outputs": [
    {
     "name": "stderr",
     "output_type": "stream",
     "text": [
      "E\n",
      "======================================================================\n",
      "ERROR: /Users/aleksandrskiba/Library/Jupyter/runtime/kernel-3476a5cb-881f-4fba-b6b2-574ad616e3c1 (unittest.loader._FailedTest)\n",
      "----------------------------------------------------------------------\n",
      "AttributeError: module '__main__' has no attribute '/Users/aleksandrskiba/Library/Jupyter/runtime/kernel-3476a5cb-881f-4fba-b6b2-574ad616e3c1'\n",
      "\n",
      "----------------------------------------------------------------------\n",
      "Ran 1 test in 0.002s\n",
      "\n",
      "FAILED (errors=1)\n"
     ]
    },
    {
     "ename": "SystemExit",
     "evalue": "True",
     "output_type": "error",
     "traceback": [
      "An exception has occurred, use %tb to see the full traceback.\n",
      "\u001b[0;31mSystemExit\u001b[0m\u001b[0;31m:\u001b[0m True\n"
     ]
    },
    {
     "name": "stderr",
     "output_type": "stream",
     "text": [
      "/Library/Frameworks/Python.framework/Versions/3.6/lib/python3.6/site-packages/IPython/core/interactiveshell.py:3351: UserWarning: To exit: use 'exit', 'quit', or Ctrl-D.\n",
      "  warn(\"To exit: use 'exit', 'quit', or Ctrl-D.\", stacklevel=1)\n"
     ]
    }
   ],
   "source": [
    "unittest.main()"
   ]
  },
  {
   "cell_type": "markdown",
   "id": "sweet-cookbook",
   "metadata": {},
   "source": [
    "Также существуют методы инициализации среды исполнения для класса (setUpClass и tearDownClass) и модуля (setUpModule и tearDownModule), но их неаккуратное использование может привести к нарушению базовых правил, упомянутых выше."
   ]
  },
  {
   "cell_type": "markdown",
   "id": "southeast-ceremony",
   "metadata": {},
   "source": [
    "## Группировка тестов, управление запуском тестов и интерпретация результатов тестирования\n",
    "Библиотека unittest также содержит:\n",
    "\n",
    "класс TestSuite, позволяющий группировать тесты;\n",
    "класс TextTestRunner, позволяющих запускать группы тестов;\n",
    "класс TestLoader, управляющий автоматическим созданием объектов TestSuite;\n",
    "класс TestResult для автоматизации анализа результатов тестирования.\n",
    "В следующем примере используется группировка тестов и их запуск при помощи TestRunner:"
   ]
  },
  {
   "cell_type": "code",
   "execution_count": 12,
   "id": "unsigned-public",
   "metadata": {},
   "outputs": [
    {
     "name": "stdout",
     "output_type": "stream",
     "text": [
      "Testing function  Doing nothing with the list A.\n",
      "test_simple_cases (__main__.TestSort) ... test_stability (__main__.TestSort) ... test_universality (__main__.TestSort) ... \n",
      "======================================================================\n",
      "FAIL: test_simple_cases (__main__.TestSort) (case=[4, 2, 5, 1, 3])\n",
      "----------------------------------------------------------------------\n",
      "Traceback (most recent call last):\n",
      "  File \"<ipython-input-12-0f08d0e3d33c>\", line 27, in test_simple_cases\n",
      "    msg=\"List not sorted. a = \"+str(a))\n",
      "AssertionError: False is not true : List not sorted. a = [4, 2, 5, 1, 3]\n",
      "\n",
      "======================================================================\n",
      "FAIL: test_simple_cases (__main__.TestSort) (case=[5, 4, 4, 5, 5])\n",
      "----------------------------------------------------------------------\n",
      "Traceback (most recent call last):\n",
      "  File \"<ipython-input-12-0f08d0e3d33c>\", line 27, in test_simple_cases\n",
      "    msg=\"List not sorted. a = \"+str(a))\n",
      "AssertionError: False is not true : List not sorted. a = [5, 4, 4, 5, 5]\n",
      "\n",
      "======================================================================\n",
      "FAIL: test_simple_cases (__main__.TestSort) (case=[9, 8, 7, 6, 5, 4, 3, 2, 1])\n",
      "----------------------------------------------------------------------\n",
      "Traceback (most recent call last):\n",
      "  File \"<ipython-input-12-0f08d0e3d33c>\", line 27, in test_simple_cases\n",
      "    msg=\"List not sorted. a = \"+str(a))\n",
      "AssertionError: False is not true : List not sorted. a = [9, 8, 7, 6, 5, 4, 3, 2, 1]\n",
      "\n",
      "======================================================================\n",
      "FAIL: test_stability (__main__.TestSort) (case=[[1, 2], [1, 2], [2, 2], [2, 2], [2, 3], [2, 3]])\n",
      "----------------------------------------------------------------------\n",
      "Traceback (most recent call last):\n",
      "  File \"<ipython-input-12-0f08d0e3d33c>\", line 40, in test_stability\n",
      "    self.assertTrue(all(x is y for x, y in zip(a, b)))\n",
      "AssertionError: False is not true\n",
      "\n",
      "======================================================================\n",
      "FAIL: test_stability (__main__.TestSort) (case=[[5, 2], [5, 2], [5, 2], [10, 5], [10, 5], [10, 5]])\n",
      "----------------------------------------------------------------------\n",
      "Traceback (most recent call last):\n",
      "  File \"<ipython-input-12-0f08d0e3d33c>\", line 40, in test_stability\n",
      "    self.assertTrue(all(x is y for x, y in zip(a, b)))\n",
      "AssertionError: False is not true\n",
      "\n",
      "======================================================================\n",
      "FAIL: test_universality (__main__.TestSort) (case=[4, 2, 8])\n",
      "----------------------------------------------------------------------\n",
      "Traceback (most recent call last):\n",
      "  File \"<ipython-input-12-0f08d0e3d33c>\", line 54, in test_universality\n",
      "    msg=\"List not sorted. a = \"+str(a))\n",
      "AssertionError: False is not true : List not sorted. a = [4, 2, 8]\n",
      "\n",
      "======================================================================\n",
      "FAIL: test_universality (__main__.TestSort) (case=[True, False])\n",
      "----------------------------------------------------------------------\n",
      "Traceback (most recent call last):\n",
      "  File \"<ipython-input-12-0f08d0e3d33c>\", line 54, in test_universality\n",
      "    msg=\"List not sorted. a = \"+str(a))\n",
      "AssertionError: False is not true : List not sorted. a = [True, False]\n",
      "\n",
      "======================================================================\n",
      "FAIL: test_universality (__main__.TestSort) (case=[1.0, 0.9, 0.8, 0.7, 0.6, 0.5, 0.4, 0.3, 0.2, 0.1])\n",
      "----------------------------------------------------------------------\n",
      "Traceback (most recent call last):\n",
      "  File \"<ipython-input-12-0f08d0e3d33c>\", line 54, in test_universality\n",
      "    msg=\"List not sorted. a = \"+str(a))\n",
      "AssertionError: False is not true : List not sorted. a = [1.0, 0.9, 0.8, 0.7, 0.6, 0.5, 0.4, 0.3, 0.2, 0.1]\n",
      "\n",
      "----------------------------------------------------------------------\n",
      "Ran 3 tests in 0.013s\n",
      "\n",
      "FAILED (failures=8)\n",
      "Testing function  Sorting of list in place. Using Bubble Sort algorithm.\n",
      "test_simple_cases (__main__.TestSort) ... ok\n",
      "test_stability (__main__.TestSort) ... ok\n",
      "test_universality (__main__.TestSort) ... ok\n",
      "\n",
      "----------------------------------------------------------------------\n",
      "Ran 3 tests in 0.011s\n",
      "\n",
      "OK\n"
     ]
    }
   ],
   "source": [
    "import unittest\n",
    "import sys\n",
    "\n",
    "\n",
    "def is_not_in_descending_order(a):\n",
    "    \"\"\"\n",
    "    Check if the list a is not descending (means \"rather ascending\")\n",
    "    \"\"\"\n",
    "    for i in range(len(a)-1):\n",
    "        if a[i] > a[i+1]:\n",
    "            return False\n",
    "    return True\n",
    "\n",
    "\n",
    "class TestSort(unittest.TestCase):       \n",
    "    def test_simple_cases(self):\n",
    "        self.cases = ([1], [], [1, 2], [1, 2, 3, 4, 5], \n",
    "                      [4, 2, 5, 1, 3], [5, 4, 4, 5, 5],\n",
    "                      list(range(1, 10)), list(range(9, 0, -1)))\n",
    "        for b in self.cases:\n",
    "            with self.subTest(case=b):\n",
    "                a = list(b)\n",
    "                sort_algorithm(a)\n",
    "                self.assertCountEqual(a, b,\n",
    "                                      msg=\"Elements changed. a = \"+str(a))\n",
    "                self.assertTrue(is_not_in_descending_order(a),\n",
    "                                msg=\"List not sorted. a = \"+str(a))\n",
    "                \n",
    "    def test_stability(self):\n",
    "        self.cases = ([[0] for i in range(5)],\n",
    "                      [[1, 2], [2, 2], [2, 3], [2, 2], [2, 3], [1, 2]],\n",
    "                      [[5, 2], [10, 5], [5, 2], [10, 5], [5, 2], [10, 5]])\n",
    "    \n",
    "        for b in self.cases:\n",
    "            with self.subTest(case=b):\n",
    "                a = list(b)\n",
    "                sort_algorithm(a)\n",
    "                b.sort()  # here we are cheating: standard sort is stable\n",
    "                # to test stability we will check a[i] is b[i]\n",
    "                self.assertTrue(all(x is y for x, y in zip(a, b)))\n",
    "    \n",
    "    def test_universality(self):\n",
    "        self.cases = ([4, 2, 8], list('abcdefg'),\n",
    "                      [True, False],\n",
    "                      [float(i)/10 for i in range(10, 0, -1)],\n",
    "                      [[1, 2], [2], [3, 4], [3, 4, 5], [6, 7]])\n",
    "        for b in self.cases:\n",
    "            with self.subTest(case=b):\n",
    "                a = list(b)\n",
    "                sort_algorithm(a)\n",
    "                self.assertCountEqual(a, b,\n",
    "                                      msg=\"Elements changed. a = \"+str(a))\n",
    "                self.assertTrue(is_not_in_descending_order(a),\n",
    "                                msg=\"List not sorted. a = \"+str(a))\n",
    "\n",
    "\n",
    "def bubble_sort(A: list):\n",
    "    \"\"\"\n",
    "    Sorting of list in place. Using Bubble Sort algorithm.\n",
    "    \"\"\"\n",
    "    N = len(A)\n",
    "    list_is_sorted = False\n",
    "    bypass = 1\n",
    "    while not list_is_sorted:\n",
    "        list_is_sorted = True\n",
    "        for k in range(N - bypass):\n",
    "            if A[k] > A[k+1]:\n",
    "                A[k], A[k+1] = A[k+1], A[k]\n",
    "                list_is_sorted = False\n",
    "        bypass += 1\n",
    "\n",
    "\n",
    "def doing_nothing(A: list):\n",
    "    \"\"\"\n",
    "    Doing nothing with the list A.\n",
    "    \"\"\"\n",
    "    pass\n",
    "\n",
    "\n",
    "def sort_test_suite():\n",
    "    suite = unittest.TestSuite()\n",
    "    suite.addTest(TestSort('test_simple_cases'))\n",
    "    suite.addTest(TestSort('test_stability'))\n",
    "    suite.addTest(TestSort('test_universality'))\n",
    "    return suite\n",
    "\n",
    "\n",
    "if True:  # __name__ == '__main__':\n",
    "    runner = unittest.TextTestRunner(stream=sys.stdout, verbosity=2)\n",
    "\n",
    "    for algo in doing_nothing, bubble_sort:\n",
    "        print('Testing function ', algo.__doc__.strip())\n",
    "        test_suite = sort_test_suite()\n",
    "        sort_algorithm = algo\n",
    "        runner.run(test_suite)"
   ]
  }
 ],
 "metadata": {
  "kernelspec": {
   "display_name": "Python 3",
   "language": "python",
   "name": "python3"
  },
  "language_info": {
   "codemirror_mode": {
    "name": "ipython",
    "version": 3
   },
   "file_extension": ".py",
   "mimetype": "text/x-python",
   "name": "python",
   "nbconvert_exporter": "python",
   "pygments_lexer": "ipython3",
   "version": "3.6.8"
  }
 },
 "nbformat": 4,
 "nbformat_minor": 5
}
