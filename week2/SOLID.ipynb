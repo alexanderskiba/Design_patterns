{
 "cells": [
  {
   "cell_type": "markdown",
   "id": "honest-programming",
   "metadata": {},
   "source": [
    "# SOLID - принципы"
   ]
  },
  {
   "cell_type": "markdown",
   "id": "hearing-procedure",
   "metadata": {},
   "source": [
    "Принцип единственной ответственности (The Single Responsibility Principle): у каждого объекта должна быть только одна ответственность. Все поведение этого объекта должно быть направлено на обеспечение этой ответственности и никаких других."
   ]
  },
  {
   "cell_type": "code",
   "execution_count": 1,
   "id": "horizontal-plain",
   "metadata": {},
   "outputs": [],
   "source": [
    "# Неправильно\n",
    "class EventHandler: # Обработчик событий\n",
    "    def handle_event_1(self, event):\n",
    "        # Обработчик первого события\n",
    "        pass\n",
    "    \n",
    "    def handle_event_2(self, event):\n",
    "        # Обработчик второго события\n",
    "        pass\n",
    "    \n",
    "    def handle_event_3(self, event):\n",
    "        # Обработчик третьего события\n",
    "        pass\n",
    "    \n",
    "    def database_logger(self, event):\n",
    "        # Метод для записи логов в базу данных\n",
    "        pass\n",
    "\n",
    "    \n",
    "# Правильно\n",
    "class  EventHandler: # Обработчик событий\n",
    "    \n",
    "    def handle_event_1(self, event):\n",
    "        # Обработчик первого события\n",
    "        pass\n",
    "    \n",
    "    def handle_event_2(self, event):\n",
    "        # Обработчик второго события\n",
    "        pass\n",
    "    \n",
    "    def handle_event_3(self, event):\n",
    "        # Обработчик третьего события\n",
    "        pass\n",
    "    \n",
    "    \n",
    "class DatabaseLogger:\n",
    "    \n",
    "    def database_logger(self, event):\n",
    "        # Метод для записи логов в базу данных\n",
    "        pass"
   ]
  },
  {
   "cell_type": "markdown",
   "id": "controlled-liabilities",
   "metadata": {},
   "source": [
    "Принцип открытости/закрытости (The Open Closed Principle): классы должны быть открыты для расширения, но закрыты для изменения. Этот принцип является важным, потому что внесение изменений в существующие компоненты системы может также привести к непредвиденным изменения в работе самой этой системы. Однако поведение существующих объектов при необходимости можно расширить при помощи создания новых сущностей.\n",
    "\n",
    "Рассмотрим на примере. Пусть существует класс Robot. У этого класса есть метод brake. Мы хотим создать робота, который при поломке кроме всего прочего включает аварийную сигнализацию alarm. При этом мы не должны переписывать сам класс Robot, а должны создать потомка AlarmRobot, который при вызове brake после вызова соответствующего метода родительского класса будет так же вызывать метод alarm.\n",
    "\n",
    "Принцип подстановки Барбары Лисков (The Liskov Substitution Principle): функции, которые используют базовый тип должны иметь возможность использовать его подтипы не зная об этом. "
   ]
  },
  {
   "cell_type": "code",
   "execution_count": 2,
   "id": "still-costa",
   "metadata": {},
   "outputs": [
    {
     "name": "stdout",
     "output_type": "stream",
     "text": [
      "Function was called\n",
      "All correct!\n",
      "\n",
      "Function was called\n",
      "SOMETHING IS GOING WRONG!\n",
      "\n"
     ]
    }
   ],
   "source": [
    "# Неправильный код\n",
    "class Parent:\n",
    "    def __init__(self, value):\n",
    "        self.value = value\n",
    "    \n",
    "    def do_something(self):\n",
    "        print(\"Function was called\")\n",
    "\n",
    "        \n",
    "class Child(Parent):\n",
    "    \n",
    "    def do_something(self):\n",
    "        super().do_something()\n",
    "        self.value = 0\n",
    "        \n",
    "        \n",
    "def function(obj: Parent):\n",
    "    obj.do_something()\n",
    "    if obj.value > 0:\n",
    "        print(\"All correct!\")\n",
    "    else:\n",
    "        print(\"SOMETHING IS GOING WRONG!\")\n",
    "\n",
    "# Посмотрим на поведение\n",
    "parent = Parent(5)\n",
    "function(parent)\n",
    "print()\n",
    "\n",
    "# Данный код должен работать корректно, если вместо родителя подставить потомка\n",
    "child = Child(5)\n",
    "function(child)\n",
    "print()"
   ]
  },
  {
   "cell_type": "markdown",
   "id": "controlled-slovenia",
   "metadata": {},
   "source": [
    "  Принцип разделения интерфейса (The Interface Segregation Principle): клиенты не должны зависеть от методов, которые они не используют."
   ]
  },
  {
   "cell_type": "code",
   "execution_count": 3,
   "id": "junior-lobby",
   "metadata": {},
   "outputs": [],
   "source": [
    "# Неправильно\n",
    "class AllScoresCalculator:\n",
    "    def calculate_accuracy(self, y_true, y_pred):\n",
    "        return sum(int(x == y) for x, y in zip(y_true, y_pred)) / len(y_true)\n",
    "    \n",
    "    def log_loss(self, y_true, y_pred):\n",
    "        return sum((x * math.log(y) + (1 - x) * math.log(1 - y)) \n",
    "                   for x, y in zip(y_true, y_pred)) / len(y_true)\n",
    "\n",
    "    \n",
    "# Правильно\n",
    "class CalculateLosses:\n",
    "    def log_loss(self, y_true, y_pred):\n",
    "        return sum((x * math.log(y) + (1 - x) * math.log(1 - y)) \n",
    "                   for x, y in zip(y_true, y_pred)) / len(y_true)\n",
    "    \n",
    "\n",
    "class CalculateMetrics:\n",
    "    def calculate_accuracy(self, y_true, y_pred):\n",
    "        return sum(int(x == y) for x, y in zip(y_true, y_pred)) / len(y_true)\n",
    "    "
   ]
  },
  {
   "cell_type": "markdown",
   "id": "protecting-clone",
   "metadata": {},
   "source": [
    "Принцип инверсии зависимостей (The Dependency Inversion Principle):\n",
    "\n",
    "Модули верхних уровней не должны зависеть от модулей нижних уровней. Оба типа модулей должны зависеть от абстракций.\n",
    "Абстракции не должны зависеть от деталей. Детали должны зависеть от абстракций.\n",
    "Приведем пример. Пусть у вас есть базовый класс Distributer, который может отправлять сообщения в различные социальные сети. У этого класса есть несколько реализаций, например VKDistributer и OKDistributer. Согласно принципу инверсии зависимостей, эти реализации не должны зависеть от методов класса Distributer (например VK_send_message и OK_send_message). Вместо этого у класса Destributor должен быть объявлен общий абстрактный метод send_message, который и будет реализован отдельно в каждом из потомков."
   ]
  }
 ],
 "metadata": {
  "kernelspec": {
   "display_name": "Python 3",
   "language": "python",
   "name": "python3"
  },
  "language_info": {
   "codemirror_mode": {
    "name": "ipython",
    "version": 3
   },
   "file_extension": ".py",
   "mimetype": "text/x-python",
   "name": "python",
   "nbconvert_exporter": "python",
   "pygments_lexer": "ipython3",
   "version": "3.6.8"
  }
 },
 "nbformat": 4,
 "nbformat_minor": 5
}
