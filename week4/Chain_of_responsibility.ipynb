{
 "cells": [
  {
   "cell_type": "markdown",
   "id": "split-coupon",
   "metadata": {},
   "source": [
    "# Цепочка обязанностей (Chain of responsibility)"
   ]
  },
  {
   "cell_type": "markdown",
   "id": "advance-individual",
   "metadata": {},
   "source": [
    "## Реализация самой простой цепочки обязанностей"
   ]
  },
  {
   "cell_type": "markdown",
   "id": "indian-freight",
   "metadata": {},
   "source": [
    "Нам необходимо описать персонажа:"
   ]
  },
  {
   "cell_type": "code",
   "execution_count": 1,
   "id": "altered-belfast",
   "metadata": {},
   "outputs": [],
   "source": [
    "class Character:\n",
    "    def __init__(self):\n",
    "        self.name = \"Nagibator\"\n",
    "        self.xp = 0\n",
    "        self.passed_quests = set()\n",
    "        self.taken_quests = set()"
   ]
  },
  {
   "cell_type": "markdown",
   "id": "nutritional-commonwealth",
   "metadata": {},
   "source": [
    "Реализуем несколько квестов"
   ]
  },
  {
   "cell_type": "code",
   "execution_count": 2,
   "id": "innocent-sally",
   "metadata": {},
   "outputs": [],
   "source": [
    "# Список констант дял квестов\n",
    "QUEST_SPEAK, QUEST_HUNT, QUEST_CARRY = \"QSPEAK\", \"QHUNT\", \"QCARRY\""
   ]
  },
  {
   "cell_type": "code",
   "execution_count": 3,
   "id": "vocal-hunger",
   "metadata": {},
   "outputs": [],
   "source": [
    "class Event:\n",
    "    def __init__(self, kind):\n",
    "        self.kind = kind # тип события"
   ]
  },
  {
   "cell_type": "markdown",
   "id": "going-french",
   "metadata": {},
   "source": [
    "Теперь начнем писать цепочку с нулевого обработчика"
   ]
  },
  {
   "cell_type": "code",
   "execution_count": 4,
   "id": "primary-vermont",
   "metadata": {},
   "outputs": [],
   "source": [
    "class NullHandler:\n",
    "    def __init__(self, successor=None):\n",
    "        self.__successor = successor\n",
    "    \n",
    "    def handle(self, char, event):\n",
    "        \"\"\"Сам обработчик\"\"\"\n",
    "        if self.__successor is not None: # Если следующий обработчик вообще существует, передадим ему это событие\n",
    "            self.__successor.handle(char, event)"
   ]
  },
  {
   "cell_type": "markdown",
   "id": "disabled-agenda",
   "metadata": {},
   "source": [
    "Теперь настало время описать наши квесты в виде цепочки обязанностей"
   ]
  },
  {
   "cell_type": "code",
   "execution_count": 5,
   "id": "lyric-andrews",
   "metadata": {},
   "outputs": [],
   "source": [
    "class QuestSpeak(NullHandler):\n",
    "    def handle(self, char, event):\n",
    "        if event.kind == QUEST_SPEAK:\n",
    "            quest_name = \"Поговорить с фермером\"\n",
    "            xp = 100\n",
    "            if quest_name not in (char.passed_quests | char.taken_quests):\n",
    "                print(f\"Квест получен: \\\"{quest_name}\\\"\")\n",
    "                char.taken_quests.add(quest_name)\n",
    "            elif quest_name in char.taken_quests:\n",
    "                print(f\"Квест сдан: \\\"{quest_name}\\\"\")\n",
    "                char.passed_quests.add(quest_name)\n",
    "                char.taken_quests.remove(quest_name)\n",
    "                char.xp += xp\n",
    "        else:\n",
    "            print(\"Передаю событие дальше\")\n",
    "            super().handle(char, event)"
   ]
  },
  {
   "cell_type": "code",
   "execution_count": 6,
   "id": "threaded-batman",
   "metadata": {},
   "outputs": [],
   "source": [
    "class QuestHunt(NullHandler):\n",
    "    def handle(self, char, event):\n",
    "        if event.kind == QUEST_HUNT:\n",
    "            quest_name = \"Охота на крыс\"\n",
    "            xp = 300\n",
    "            if quest_name not in (char.passed_quests | char.taken_quests):\n",
    "                print(f\"Квест получен: \\\"{quest_name}\\\"\")\n",
    "                char.taken_quests.add(quest_name)\n",
    "            elif quest_name in char.taken_quests:\n",
    "                print(f\"Квест сдан: \\\"{quest_name}\\\"\")\n",
    "                char.passed_quests.add(quest_name)\n",
    "                char.taken_quests.remove(quest_name)\n",
    "                char.xp += xp\n",
    "        else:\n",
    "            print(\"Передаю событие дальше\")\n",
    "            super().handle(char, event)"
   ]
  },
  {
   "cell_type": "code",
   "execution_count": 7,
   "id": "selected-moment",
   "metadata": {},
   "outputs": [],
   "source": [
    "class QuestCarry(NullHandler):\n",
    "    def handle(self, char, event):\n",
    "        if event.kind == QUEST_CARRY:\n",
    "            quest_name = \"Принести доски из сарая\"\n",
    "            xp = 200\n",
    "            if quest_name not in (char.passed_quests | char.taken_quests):\n",
    "                print(f\"Квест получен: \\\"{quest_name}\\\"\")\n",
    "                char.taken_quests.add(quest_name)\n",
    "            elif quest_name in char.taken_quests:\n",
    "                print(f\"Квест сдан: \\\"{quest_name}\\\"\")\n",
    "                char.passed_quests.add(quest_name)\n",
    "                char.taken_quests.remove(quest_name)\n",
    "                char.xp += xp\n",
    "        else:\n",
    "            print(\"Передаю событие дальше\")\n",
    "            super().handle(char, event)"
   ]
  },
  {
   "cell_type": "markdown",
   "id": "laughing-classification",
   "metadata": {},
   "source": [
    "Теперь напишем класс, который раздает квесты"
   ]
  },
  {
   "cell_type": "code",
   "execution_count": 8,
   "id": "metric-permission",
   "metadata": {},
   "outputs": [],
   "source": [
    "class QuestGiver:\n",
    "    def __init__(self):\n",
    "        self.handlers = QuestCarry(QuestHunt(QuestSpeak(NullHandler))) # Сама цепочка\n",
    "        self.events = []\n",
    "        \n",
    "    def add_event(self, event):\n",
    "        self.events.append(event)\n",
    "        \n",
    "    def handle_quests(self, character):\n",
    "        for event in self.events:\n",
    "            self.handlers.handle(character, event)"
   ]
  },
  {
   "cell_type": "markdown",
   "id": "electric-measure",
   "metadata": {},
   "source": [
    "Для начала создадим список всех доступных квестов"
   ]
  },
  {
   "cell_type": "code",
   "execution_count": 9,
   "id": "solar-processor",
   "metadata": {},
   "outputs": [],
   "source": [
    "events = [Event(QUEST_CARRY), Event(QUEST_HUNT), Event(QUEST_SPEAK)]"
   ]
  },
  {
   "cell_type": "markdown",
   "id": "productive-saver",
   "metadata": {},
   "source": [
    "Теперь создаим квест-гивера"
   ]
  },
  {
   "cell_type": "code",
   "execution_count": 10,
   "id": "southwest-grocery",
   "metadata": {},
   "outputs": [],
   "source": [
    "quest_giver = QuestGiver()"
   ]
  },
  {
   "cell_type": "markdown",
   "id": "forty-venezuela",
   "metadata": {},
   "source": [
    "Добавим ему квестов"
   ]
  },
  {
   "cell_type": "code",
   "execution_count": 11,
   "id": "furnished-vacuum",
   "metadata": {},
   "outputs": [],
   "source": [
    "for event in events:\n",
    "    quest_giver.add_event(event)"
   ]
  },
  {
   "cell_type": "markdown",
   "id": "marine-suggestion",
   "metadata": {},
   "source": [
    "Теперь создадим нашего игрока"
   ]
  },
  {
   "cell_type": "code",
   "execution_count": 12,
   "id": "played-differential",
   "metadata": {},
   "outputs": [],
   "source": [
    "player = Character()"
   ]
  },
  {
   "cell_type": "code",
   "execution_count": 13,
   "id": "behavioral-folks",
   "metadata": {},
   "outputs": [
    {
     "name": "stdout",
     "output_type": "stream",
     "text": [
      "Квест получен: \"Принести доски из сарая\"\n",
      "Передаю событие дальше\n",
      "Квест получен: \"Охота на крыс\"\n",
      "Передаю событие дальше\n",
      "Передаю событие дальше\n",
      "Квест получен: \"Поговорить с фермером\"\n"
     ]
    }
   ],
   "source": [
    "quest_giver.handle_quests(player)"
   ]
  },
  {
   "cell_type": "code",
   "execution_count": 14,
   "id": "younger-second",
   "metadata": {},
   "outputs": [
    {
     "name": "stdout",
     "output_type": "stream",
     "text": [
      "{'Принести доски из сарая', 'Охота на крыс', 'Поговорить с фермером'}\n",
      "set()\n"
     ]
    }
   ],
   "source": [
    "print(player.taken_quests)\n",
    "print(player.passed_quests)"
   ]
  },
  {
   "cell_type": "code",
   "execution_count": 15,
   "id": "european-mobile",
   "metadata": {},
   "outputs": [
    {
     "name": "stdout",
     "output_type": "stream",
     "text": [
      "Квест сдан: \"Принести доски из сарая\"\n",
      "Передаю событие дальше\n",
      "Квест сдан: \"Охота на крыс\"\n",
      "Передаю событие дальше\n",
      "Передаю событие дальше\n",
      "Квест сдан: \"Поговорить с фермером\"\n"
     ]
    }
   ],
   "source": [
    "quest_giver.handle_quests(player)"
   ]
  },
  {
   "cell_type": "code",
   "execution_count": 16,
   "id": "loaded-information",
   "metadata": {},
   "outputs": [
    {
     "name": "stdout",
     "output_type": "stream",
     "text": [
      "Передаю событие дальше\n",
      "Передаю событие дальше\n",
      "Передаю событие дальше\n"
     ]
    }
   ],
   "source": [
    "quest_giver.handle_quests(player)"
   ]
  },
  {
   "cell_type": "code",
   "execution_count": 18,
   "id": "fatal-gentleman",
   "metadata": {},
   "outputs": [
    {
     "name": "stdout",
     "output_type": "stream",
     "text": [
      "set()\n",
      "{'Принести доски из сарая', 'Охота на крыс', 'Поговорить с фермером'}\n"
     ]
    }
   ],
   "source": [
    "print(player.taken_quests)\n",
    "print(player.passed_quests)"
   ]
  }
 ],
 "metadata": {
  "kernelspec": {
   "display_name": "Python 3",
   "language": "python",
   "name": "python3"
  },
  "language_info": {
   "codemirror_mode": {
    "name": "ipython",
    "version": 3
   },
   "file_extension": ".py",
   "mimetype": "text/x-python",
   "name": "python",
   "nbconvert_exporter": "python",
   "pygments_lexer": "ipython3",
   "version": "3.6.8"
  }
 },
 "nbformat": 4,
 "nbformat_minor": 5
}
