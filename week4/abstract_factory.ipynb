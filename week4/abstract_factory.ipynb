{
 "cells": [
  {
   "cell_type": "markdown",
   "id": "marine-government",
   "metadata": {},
   "source": [
    "# Абстрактная фабрика"
   ]
  },
  {
   "cell_type": "code",
   "execution_count": 12,
   "id": "stuck-royalty",
   "metadata": {},
   "outputs": [],
   "source": [
    "from abc import ABC, abstractmethod"
   ]
  },
  {
   "cell_type": "code",
   "execution_count": 25,
   "id": "burning-dialogue",
   "metadata": {},
   "outputs": [],
   "source": [
    "class HeroFactory:\n",
    "    @classmethod\n",
    "    def create_hero(Class, name):\n",
    "        return Class.Hero(name)\n",
    "    \n",
    "    @classmethod\n",
    "    def create_weapon(Class):\n",
    "        return Class.Weapon()\n",
    "    \n",
    "    @classmethod\n",
    "    def create_spell(Class):\n",
    "        return Class.Spell()"
   ]
  },
  {
   "cell_type": "markdown",
   "id": "extreme-priest",
   "metadata": {},
   "source": [
    "Опишем классы, которые мы должны создавать при помощи нашей абстрактной фабрики"
   ]
  },
  {
   "cell_type": "code",
   "execution_count": 26,
   "id": "sticky-culture",
   "metadata": {},
   "outputs": [],
   "source": [
    "class WariorFactory(HeroFactory):\n",
    "    class Hero:\n",
    "        def __init__(self, name):\n",
    "            self.name = name\n",
    "            self.weapon = None\n",
    "            self.armor = None\n",
    "            self.spell = None\n",
    "\n",
    "        def add_weapon(self, weapon):\n",
    "            self.weapon = weapon\n",
    "\n",
    "        def add_spell(self, spell):\n",
    "            self.spell = spell\n",
    "\n",
    "        def hit(self):\n",
    "            print(f\"Warior hits with {self.weapon.hit()}\")\n",
    "            self.weapon.hit()\n",
    "\n",
    "        def cast(self):\n",
    "            print(f\"Warior casts {self.spell.cast()}\")\n",
    "            self.spell.cast()\n",
    "              \n",
    "    class Weapon:\n",
    "        def hit(self):\n",
    "            return \"Claymore\"\n",
    "        \n",
    "    class Spell:\n",
    "        def cast(self):\n",
    "            return \"Power\"\n",
    "        \n",
    "    \n",
    "class MageFactory(HeroFactory):\n",
    "    class Hero:\n",
    "        def __init__(self, name):\n",
    "            self.name = name\n",
    "            self.weapon = None\n",
    "            self.armor = None\n",
    "            self.spell = None\n",
    "\n",
    "        def add_weapon(self, weapon):\n",
    "            self.weapon = weapon\n",
    "\n",
    "        def add_spell(self, spell):\n",
    "            self.spell = spell\n",
    "\n",
    "        def hit(self):\n",
    "            print(f\"Mage hits with {self.weapon.hit()}\")\n",
    "            self.weapon.hit()\n",
    "\n",
    "        def cast(self):\n",
    "            print(f\"Mage casts {self.spell.cast()}\")\n",
    "            self.spell.cast()\n",
    "            \n",
    "    class Weapon:\n",
    "        def hit(self):\n",
    "            return \"Staff\"\n",
    "        \n",
    "    class Spell:\n",
    "        def cast(self):\n",
    "            return \"Fireball\"\n",
    "    \n",
    "        \n",
    "class AssassinFactory(HeroFactory):\n",
    "    class Hero:\n",
    "        def __init__(self, name):\n",
    "            self.name = name\n",
    "            self.weapon = None\n",
    "            self.armor = None\n",
    "            self.spell = None\n",
    "\n",
    "        def add_weapon(self, weapon):\n",
    "            self.weapon = weapon\n",
    "\n",
    "        def add_spell(self, spell):\n",
    "            self.spell = spell\n",
    "\n",
    "        def hit(self):\n",
    "            print(f\"Assassin hits with {self.weapon.hit()}\")\n",
    "            self.weapon.hit()\n",
    "\n",
    "        def cast(self):\n",
    "            print(f\"Assassin casts {self.spell.cast()}\")\n",
    "     \n",
    "    class Weapon:\n",
    "        def hit(self):\n",
    "            return \"Dagger\"\n",
    "        \n",
    "    class Spell:\n",
    "        def cast(self):\n",
    "            return \"Invisibility\""
   ]
  },
  {
   "cell_type": "markdown",
   "id": "flying-license",
   "metadata": {},
   "source": [
    "Теперь создадим нашего героя при помощи абстрактной фабрики:"
   ]
  },
  {
   "cell_type": "code",
   "execution_count": 27,
   "id": "advisory-buyer",
   "metadata": {},
   "outputs": [],
   "source": [
    "def create_hero(factory):\n",
    "    hero = factory.create_hero(\"Nagibator\")\n",
    "    \n",
    "    weapon = factory.create_weapon()\n",
    "    spell = factory.create_spell()\n",
    "    \n",
    "    hero.add_weapon(weapon)\n",
    "    hero.add_spell(spell)\n",
    "    \n",
    "    return hero"
   ]
  },
  {
   "cell_type": "markdown",
   "id": "challenging-binding",
   "metadata": {},
   "source": [
    "Создадим мага"
   ]
  },
  {
   "cell_type": "code",
   "execution_count": 28,
   "id": "varying-tongue",
   "metadata": {},
   "outputs": [
    {
     "name": "stdout",
     "output_type": "stream",
     "text": [
      "Mage hits with Staff\n",
      "Mage casts Fireball\n"
     ]
    }
   ],
   "source": [
    "player = create_hero(MageFactory())\n",
    "player.hit()\n",
    "player.cast()"
   ]
  },
  {
   "cell_type": "code",
   "execution_count": 10,
   "id": "alike-knowing",
   "metadata": {},
   "outputs": [
    {
     "name": "stdout",
     "output_type": "stream",
     "text": [
      "Assassin Nagibator hits with Dagger\n",
      "Assassin Nagibator casts Invisibility\n"
     ]
    }
   ],
   "source": [
    "player = create_hero(AssassinFactory())\n",
    "player.hit()\n",
    "player.cast()"
   ]
  }
 ],
 "metadata": {
  "kernelspec": {
   "display_name": "Python 3",
   "language": "python",
   "name": "python3"
  },
  "language_info": {
   "codemirror_mode": {
    "name": "ipython",
    "version": 3
   },
   "file_extension": ".py",
   "mimetype": "text/x-python",
   "name": "python",
   "nbconvert_exporter": "python",
   "pygments_lexer": "ipython3",
   "version": "3.6.8"
  }
 },
 "nbformat": 4,
 "nbformat_minor": 5
}
