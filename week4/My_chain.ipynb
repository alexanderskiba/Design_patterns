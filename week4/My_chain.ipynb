{
 "cells": [
  {
   "cell_type": "markdown",
   "id": "unsigned-lightning",
   "metadata": {},
   "source": [
    "Вам дан объект класса SomeObject, содержащего три поля: integer_field, float_field и string_field:"
   ]
  },
  {
   "cell_type": "code",
   "execution_count": 1,
   "id": "computational-python",
   "metadata": {},
   "outputs": [],
   "source": [
    "class SomeObject:\n",
    "    def __init__(self):\n",
    "        self.integer_field = 0\n",
    "        self.float_field = 0.0\n",
    "        self.string_field = \"\""
   ]
  },
  {
   "cell_type": "markdown",
   "id": "ideal-livestock",
   "metadata": {},
   "source": [
    "Необходимо реализовать поведение:\n",
    "\n",
    "EventGet(<type>) создаёт событие получения данных соответствующего типа\n",
    "EventSet(<value>) создаёт событие изменения поля типа type(<value>)\n",
    "Необходимо реализовать классы NullHandler, IntHandler, FloatHandler, StrHandler так, чтобы можно было создать цепочку:\n",
    "    \n",
    "    chain = IntHandler(FloatHandler(StrHandler(NullHandler)))"
   ]
  },
  {
   "cell_type": "markdown",
   "id": "under-belly",
   "metadata": {},
   "source": [
    "Описание работы цепочки:  \n",
    "\n",
    "chain.handle(obj, EventGet(int)) — вернуть значение obj.integer_field\n",
    "\n",
    "chain.handle(obj, EventGet(str)) — вернуть значение obj.string_field\n",
    "\n",
    "chain.handle(obj, EventGet(float)) — вернуть значение obj.float_field\n",
    "\n",
    "chain.handle(obj, EventSet(1)) — установить значение obj.integer_field =1\n",
    "\n",
    "chain.handle(obj, EventSet(1.1)) — установить значение obj.float_field = 1.1\n",
    "\n",
    "chain.handle(obj, EventSet(\"str\")) — установить значение obj.string_field = \"str\"\n"
   ]
  },
  {
   "cell_type": "code",
   "execution_count": 2,
   "id": "international-identifier",
   "metadata": {},
   "outputs": [],
   "source": [
    "INT, FLOAT, STR = int, float, str"
   ]
  },
  {
   "cell_type": "code",
   "execution_count": 3,
   "id": "victorian-entry",
   "metadata": {},
   "outputs": [],
   "source": [
    "class EventGet:\n",
    "    def __init__(self, value):\n",
    "        self.kind = {int: INT, float: FLOAT, str: STR}[value]\n",
    "        self.value = None"
   ]
  },
  {
   "cell_type": "code",
   "execution_count": 4,
   "id": "structural-luther",
   "metadata": {},
   "outputs": [],
   "source": [
    "class EventSet:\n",
    "    def __init__(self, value):\n",
    "        self.kind = {int: INT, float: FLOAT, str: STR}[type(value)]\n",
    "        self.value = value"
   ]
  },
  {
   "cell_type": "code",
   "execution_count": 5,
   "id": "applicable-helen",
   "metadata": {},
   "outputs": [],
   "source": [
    "class NullHandler:\n",
    "    def __init__(self, successor=None):\n",
    "        self.__successor = successor\n",
    "\n",
    "    def handle(self, some_obj, event):\n",
    "        \"\"\"Сам обработчик\"\"\"\n",
    "        if self.__successor is not None:  # Если следующий обработчик вообще существует, передадим ему это событие\n",
    "            return self.__successor.handle(some_obj, event)"
   ]
  },
  {
   "cell_type": "code",
   "execution_count": 6,
   "id": "forty-paintball",
   "metadata": {},
   "outputs": [],
   "source": [
    "class IntHandler(NullHandler):\n",
    "    def handle(self, some_obj, event):\n",
    "        if event.kind == INT:\n",
    "            if event.value is None:\n",
    "                return some_obj.integer_field\n",
    "            else:\n",
    "                some_obj.integer_field = event.value\n",
    "        else:\n",
    "            return super().handle(some_obj, event)"
   ]
  },
  {
   "cell_type": "code",
   "execution_count": 7,
   "id": "liked-wrestling",
   "metadata": {},
   "outputs": [],
   "source": [
    "class FloatHandler(NullHandler):\n",
    "    def handle(self, some_obj, event):\n",
    "        if event.kind == FLOAT:\n",
    "            if event.value is None:\n",
    "                return some_obj.float_field\n",
    "            else:\n",
    "                some_obj.float_field = event.value\n",
    "        else:\n",
    "            return super().handle(some_obj, event)"
   ]
  },
  {
   "cell_type": "code",
   "execution_count": 8,
   "id": "direct-silver",
   "metadata": {},
   "outputs": [],
   "source": [
    "class StrHandler(NullHandler):\n",
    "    def handle(self, some_obj, event):\n",
    "        if event.kind == STR:\n",
    "            if event.value is None:\n",
    "                return some_obj.string_field\n",
    "            else:\n",
    "                some_obj.string_field = event.value\n",
    "        else:\n",
    "            return super().handle(some_obj, event)"
   ]
  },
  {
   "cell_type": "code",
   "execution_count": 9,
   "id": "periodic-worry",
   "metadata": {},
   "outputs": [
    {
     "name": "stdout",
     "output_type": "stream",
     "text": [
      "42\n",
      "3.14\n",
      "some text\n",
      "100\n",
      "0.5\n",
      "new text\n"
     ]
    }
   ],
   "source": [
    "if __name__ == \"__main__\":\n",
    "    obj = SomeObject()\n",
    "\n",
    "    obj.integer_field = 42\n",
    "    obj.float_field = 3.14\n",
    "    obj.string_field = \"some text\"\n",
    "\n",
    "    chain = IntHandler(FloatHandler(StrHandler(NullHandler())))\n",
    "\n",
    "    print(chain.handle(obj, EventGet(int)))\n",
    "    print(chain.handle(obj, EventGet(float)))\n",
    "    print(chain.handle(obj, EventGet(str)))\n",
    "\n",
    "    chain.handle(obj, EventSet(100))\n",
    "    chain.handle(obj, EventSet(0.5))\n",
    "    chain.handle(obj, EventSet('new text'))\n",
    "\n",
    "    print(chain.handle(obj, EventGet(int)))\n",
    "    print(chain.handle(obj, EventGet(float)))\n",
    "    print(chain.handle(obj, EventGet(str)))"
   ]
  }
 ],
 "metadata": {
  "kernelspec": {
   "display_name": "Python 3",
   "language": "python",
   "name": "python3"
  },
  "language_info": {
   "codemirror_mode": {
    "name": "ipython",
    "version": 3
   },
   "file_extension": ".py",
   "mimetype": "text/x-python",
   "name": "python",
   "nbconvert_exporter": "python",
   "pygments_lexer": "ipython3",
   "version": "3.6.8"
  }
 },
 "nbformat": 4,
 "nbformat_minor": 5
}
