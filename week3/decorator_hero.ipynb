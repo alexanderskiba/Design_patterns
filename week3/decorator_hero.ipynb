{
 "cells": [
  {
   "cell_type": "markdown",
   "id": "moved-frost",
   "metadata": {},
   "source": [
    "В игре есть герой, который обладает некоторым набором характеристик. Класс героя описан следующим образом"
   ]
  },
  {
   "cell_type": "code",
   "execution_count": 77,
   "id": "retired-punch",
   "metadata": {},
   "outputs": [],
   "source": [
    "from abc import ABC, abstractmethod\n",
    "\n",
    "class Hero(ABC):\n",
    "    \"\"\"Оборачиваемый объект\"\"\"\n",
    "    def __init__(self):\n",
    "        self.positive_effects = []\n",
    "        self.negative_effects = []\n",
    "        self.stats = {\n",
    "            \"HP\": 128, # health points\n",
    "            \"MP\": 42, # magic points\n",
    "            \"SP\": 100, # skill points\n",
    "            \"Strength\": 15, # Сила\n",
    "            \"Perception\": 4, # Воспритятие\n",
    "            \"Endurance\": 8, # Выносливость\n",
    "            \"Charisma\": 2, # Харизма\n",
    "            \"Intelligence\": 3, # Интеллект\n",
    "            \"Agility\": 8, # Ловкость\n",
    "            \"Luck\": 1 # Удача\n",
    "        }\n",
    "        \n",
    "    def get_positive_effects(self):\n",
    "        return self.positive_effects.copy()\n",
    "    \n",
    "    def get_negative_effects(self):\n",
    "        return self.negative_effects.copy()\n",
    "    \n",
    "    def get_stats(self):\n",
    "        return self.stats.copy()"
   ]
  },
  {
   "cell_type": "code",
   "execution_count": 78,
   "id": "forced-subdivision",
   "metadata": {},
   "outputs": [],
   "source": [
    "class AbstractEffect(Hero, ABC):\n",
    "    \"\"\"Общий абстрактный декоратор\"\"\"\n",
    "    def __init__(self, base):\n",
    "        self.base = base\n",
    "    \n",
    "    @abstractmethod\n",
    "    def get_positive_effects(self):\n",
    "        return self.positive_effects\n",
    "\n",
    "    @abstractmethod\n",
    "    def get_negative_effects(self):\n",
    "        return self.negative_effects\n",
    "\n",
    "    @abstractmethod\n",
    "    def get_stats(self):\n",
    "        pass"
   ]
  },
  {
   "cell_type": "code",
   "execution_count": 79,
   "id": "challenging-monday",
   "metadata": {},
   "outputs": [],
   "source": [
    "class AbstractNegative(AbstractEffect):\n",
    "    \"\"\"Абстрактный негативный декоратор\"\"\"\n",
    "    def get_positive_effects(self):\n",
    "        \"\"\"Для отрицательных эффектов список положительных останется неизменным\"\"\"\n",
    "        return self.base.get_positive_effects()"
   ]
  },
  {
   "cell_type": "code",
   "execution_count": 80,
   "id": "alpha-jewel",
   "metadata": {},
   "outputs": [],
   "source": [
    "class AbstractPositive(AbstractEffect):\n",
    "    \"\"\"Абстрактный позитиный декоратор\"\"\"\n",
    "    def get_negative_effects(self):\n",
    "        \"\"\"Для положительных эффектов список отрицательных останется неизменным\"\"\"\n",
    "        return self.base.get_negative_effects()"
   ]
  },
  {
   "cell_type": "code",
   "execution_count": 81,
   "id": "collected-puppy",
   "metadata": {},
   "outputs": [],
   "source": [
    "class Berserk(AbstractPositive):\n",
    "    \"\"\"Декоратор берсерк\n",
    "        Увеличивает характеристики: Сила, Выносливость, Ловкость, Удача на 7;\n",
    "        уменьшает характеристики: Восприятие, Харизма, Интеллект на 3;\n",
    "        количество единиц здоровья увеличивается на 50.\n",
    "        \"\"\"\n",
    "    def get_stats(self):\n",
    "        # Базовые характеристики\n",
    "        stats = self.base.get_stats()\n",
    "        stats[\"HP\"] += 50\n",
    "        stats[\"Strength\"] += 7\n",
    "        stats[\"Endurance\"] += 7\n",
    "        stats[\"Agility\"] += 7\n",
    "        stats[\"Luck\"] += 7\n",
    "        stats[\"Perception\"] -= 3\n",
    "        stats[\"Charisma\"] -= 3\n",
    "        stats[\"Intelligence\"] -= 3\n",
    "        return stats\n",
    "    \n",
    "    def get_positive_effects(self):\n",
    "        return self.base.get_positive_effects() + [self]\n",
    "    \n",
    "    def __str__(self):\n",
    "        return \"Berserk\"\n",
    "    \n",
    "    def __repr__(self):\n",
    "        return \"Berserk\"\n"
   ]
  },
  {
   "cell_type": "code",
   "execution_count": 82,
   "id": "sensitive-muscle",
   "metadata": {},
   "outputs": [],
   "source": [
    "class Blessing(AbstractPositive):\n",
    "    \"\"\"Декоратор благословение\n",
    "        увеличивает все основные характеристики на 2.\n",
    "        \"\"\"\n",
    "    def get_stats(self):\n",
    "    # Базовые характеристики\n",
    "        stats = self.base.get_stats()\n",
    "        stats[\"Strength\"] += 2\n",
    "        stats[\"Endurance\"] += 2\n",
    "        stats[\"Agility\"] += 2\n",
    "        stats[\"Luck\"] += 2\n",
    "        stats[\"Perception\"] += 2\n",
    "        stats[\"Charisma\"] += 2\n",
    "        stats[\"Intelligence\"] += 2\n",
    "        return stats\n",
    "    def get_positive_effects(self):\n",
    "        return self.base.get_positive_effects() + [self]\n",
    "    \n",
    "    def __str__(self):\n",
    "        return \"Blessing\"\n",
    "    \n",
    "    def __repr__(self):\n",
    "        return \"Blessing\"\n",
    "    "
   ]
  },
  {
   "cell_type": "code",
   "execution_count": 83,
   "id": "discrete-baseline",
   "metadata": {},
   "outputs": [],
   "source": [
    "class Weakness(AbstractNegative):\n",
    "    \"\"\"Декоратор слабость\n",
    "        уменьшает характеристики: Сила, Выносливость, Ловкость на 4.\n",
    "        \"\"\"\n",
    "    def get_stats(self):\n",
    "    # Базовые характеристики\n",
    "        stats = self.base.get_stats()\n",
    "        stats[\"Strength\"] -= 4\n",
    "        stats[\"Endurance\"] -= 4\n",
    "        stats[\"Agility\"] -= 4\n",
    "        return stats\n",
    "    \n",
    "    def get_negative_effects(self):\n",
    "        return self.base.get_negative_effects() + [self]\n",
    "    \n",
    "    def __str__(self):\n",
    "        return \"Weakness\"\n",
    "    \n",
    "    def __repr__(self):\n",
    "        return \"Weakness\""
   ]
  },
  {
   "cell_type": "code",
   "execution_count": 84,
   "id": "common-tanzania",
   "metadata": {},
   "outputs": [],
   "source": [
    "class Evileye(AbstractNegative):\n",
    "    \"\"\"Декоратор сглаза\n",
    "        уменьшает  характеристику Удача на 10.\n",
    "        \"\"\"\n",
    "    def get_stats(self):\n",
    "        stats = self.base.get_stats()\n",
    "        stats[\"Luck\"] -= 10\n",
    "        return stats\n",
    "    \n",
    "    def get_negative_effects(self):\n",
    "        return self.base.get_negative_effects() + [self]\n",
    "    \n",
    "    def __str__(self):\n",
    "        return \"EvilEye\"\n",
    "    \n",
    "    def __repr__(self):\n",
    "        return \"EvilEye\""
   ]
  },
  {
   "cell_type": "code",
   "execution_count": 85,
   "id": "future-rover",
   "metadata": {},
   "outputs": [],
   "source": [
    "class Curse(AbstractNegative):\n",
    "    \"\"\"Декоратор проклятья\n",
    "        уменьшает все основные характеристики на 2.\n",
    "        \"\"\"\n",
    "    def get_stats(self):\n",
    "    # Базовые характеристики\n",
    "        stats = self.base.get_stats()\n",
    "        stats[\"Strength\"] -= 2\n",
    "        stats[\"Endurance\"] -= 2\n",
    "        stats[\"Agility\"] -= 2\n",
    "        stats[\"Luck\"] -= 2\n",
    "        stats[\"Perception\"] -= 2\n",
    "        stats[\"Charisma\"] -= 2\n",
    "        stats[\"Intelligence\"] -= 2\n",
    "        return stats\n",
    "    \n",
    "    def get_negative_effects(self):\n",
    "        return self.base.get_negative_effects() + [self]\n",
    "    \n",
    "    def __str__(self):\n",
    "        return \"Curse\"\n",
    "    \n",
    "    def __repr__(self):\n",
    "        return \"Curse\""
   ]
  },
  {
   "cell_type": "markdown",
   "id": "native-premium",
   "metadata": {},
   "source": [
    "Создадим персонажа:"
   ]
  },
  {
   "cell_type": "code",
   "execution_count": 86,
   "id": "raising-indianapolis",
   "metadata": {},
   "outputs": [],
   "source": [
    "hero = Hero()"
   ]
  },
  {
   "cell_type": "markdown",
   "id": "excess-mileage",
   "metadata": {},
   "source": [
    "Получим характеристики персонажа:"
   ]
  },
  {
   "cell_type": "code",
   "execution_count": 87,
   "id": "seeing-vertical",
   "metadata": {},
   "outputs": [
    {
     "data": {
      "text/plain": [
       "{'HP': 128,\n",
       " 'MP': 42,\n",
       " 'SP': 100,\n",
       " 'Strength': 15,\n",
       " 'Perception': 4,\n",
       " 'Endurance': 8,\n",
       " 'Charisma': 2,\n",
       " 'Intelligence': 3,\n",
       " 'Agility': 8,\n",
       " 'Luck': 1}"
      ]
     },
     "execution_count": 87,
     "metadata": {},
     "output_type": "execute_result"
    }
   ],
   "source": [
    "hero.get_stats()"
   ]
  },
  {
   "cell_type": "code",
   "execution_count": 88,
   "id": "mediterranean-table",
   "metadata": {},
   "outputs": [
    {
     "data": {
      "text/plain": [
       "{'HP': 128,\n",
       " 'MP': 42,\n",
       " 'SP': 100,\n",
       " 'Strength': 15,\n",
       " 'Perception': 4,\n",
       " 'Endurance': 8,\n",
       " 'Charisma': 2,\n",
       " 'Intelligence': 3,\n",
       " 'Agility': 8,\n",
       " 'Luck': 1}"
      ]
     },
     "execution_count": 88,
     "metadata": {},
     "output_type": "execute_result"
    }
   ],
   "source": [
    "hero.stats"
   ]
  },
  {
   "cell_type": "markdown",
   "id": "standing-trance",
   "metadata": {},
   "source": [
    "Узнаем все бафы и дебафы, наложенные на персонажа:"
   ]
  },
  {
   "cell_type": "code",
   "execution_count": 89,
   "id": "regional-commissioner",
   "metadata": {},
   "outputs": [
    {
     "data": {
      "text/plain": [
       "[]"
      ]
     },
     "execution_count": 89,
     "metadata": {},
     "output_type": "execute_result"
    }
   ],
   "source": [
    "hero.get_positive_effects()"
   ]
  },
  {
   "cell_type": "code",
   "execution_count": 90,
   "id": "comic-founder",
   "metadata": {},
   "outputs": [
    {
     "data": {
      "text/plain": [
       "[]"
      ]
     },
     "execution_count": 90,
     "metadata": {},
     "output_type": "execute_result"
    }
   ],
   "source": [
    "hero.get_negative_effects()"
   ]
  },
  {
   "cell_type": "code",
   "execution_count": 91,
   "id": "understood-appeal",
   "metadata": {},
   "outputs": [],
   "source": [
    "brs1 = Berserk(hero)"
   ]
  },
  {
   "cell_type": "code",
   "execution_count": 92,
   "id": "superior-injury",
   "metadata": {},
   "outputs": [
    {
     "data": {
      "text/plain": [
       "{'HP': 178,\n",
       " 'MP': 42,\n",
       " 'SP': 100,\n",
       " 'Strength': 22,\n",
       " 'Perception': 1,\n",
       " 'Endurance': 15,\n",
       " 'Charisma': -1,\n",
       " 'Intelligence': 0,\n",
       " 'Agility': 15,\n",
       " 'Luck': 8}"
      ]
     },
     "execution_count": 92,
     "metadata": {},
     "output_type": "execute_result"
    }
   ],
   "source": [
    "brs1.get_stats()"
   ]
  },
  {
   "cell_type": "code",
   "execution_count": 93,
   "id": "genetic-video",
   "metadata": {},
   "outputs": [
    {
     "data": {
      "text/plain": [
       "[Berserk]"
      ]
     },
     "execution_count": 93,
     "metadata": {},
     "output_type": "execute_result"
    }
   ],
   "source": [
    "brs1.get_positive_effects()"
   ]
  },
  {
   "cell_type": "code",
   "execution_count": 94,
   "id": "thorough-ranking",
   "metadata": {},
   "outputs": [],
   "source": [
    "brs2 = Berserk(brs1)"
   ]
  },
  {
   "cell_type": "code",
   "execution_count": 95,
   "id": "metric-drunk",
   "metadata": {},
   "outputs": [],
   "source": [
    "cur1 = Curse(brs2)"
   ]
  },
  {
   "cell_type": "code",
   "execution_count": 96,
   "id": "specialized-supervisor",
   "metadata": {},
   "outputs": [
    {
     "data": {
      "text/plain": [
       "{'HP': 228,\n",
       " 'MP': 42,\n",
       " 'SP': 100,\n",
       " 'Strength': 27,\n",
       " 'Perception': -4,\n",
       " 'Endurance': 20,\n",
       " 'Charisma': -6,\n",
       " 'Intelligence': -5,\n",
       " 'Agility': 20,\n",
       " 'Luck': 13}"
      ]
     },
     "execution_count": 96,
     "metadata": {},
     "output_type": "execute_result"
    }
   ],
   "source": [
    "cur1.get_stats()"
   ]
  },
  {
   "cell_type": "code",
   "execution_count": 97,
   "id": "exempt-liabilities",
   "metadata": {},
   "outputs": [
    {
     "data": {
      "text/plain": [
       "[Berserk, Berserk]"
      ]
     },
     "execution_count": 97,
     "metadata": {},
     "output_type": "execute_result"
    }
   ],
   "source": [
    "cur1.get_positive_effects()"
   ]
  },
  {
   "cell_type": "code",
   "execution_count": 98,
   "id": "suspected-concentrate",
   "metadata": {},
   "outputs": [
    {
     "data": {
      "text/plain": [
       "[Curse]"
      ]
     },
     "execution_count": 98,
     "metadata": {},
     "output_type": "execute_result"
    }
   ],
   "source": [
    "cur1.get_negative_effects()"
   ]
  },
  {
   "cell_type": "code",
   "execution_count": 99,
   "id": "affiliated-cable",
   "metadata": {},
   "outputs": [],
   "source": [
    "cur1.base = brs1"
   ]
  },
  {
   "cell_type": "code",
   "execution_count": 100,
   "id": "specified-documentation",
   "metadata": {},
   "outputs": [
    {
     "data": {
      "text/plain": [
       "{'HP': 178,\n",
       " 'MP': 42,\n",
       " 'SP': 100,\n",
       " 'Strength': 20,\n",
       " 'Perception': -1,\n",
       " 'Endurance': 13,\n",
       " 'Charisma': -3,\n",
       " 'Intelligence': -2,\n",
       " 'Agility': 13,\n",
       " 'Luck': 6}"
      ]
     },
     "execution_count": 100,
     "metadata": {},
     "output_type": "execute_result"
    }
   ],
   "source": [
    "cur1.get_stats()"
   ]
  },
  {
   "cell_type": "code",
   "execution_count": 101,
   "id": "egyptian-result",
   "metadata": {},
   "outputs": [
    {
     "data": {
      "text/plain": [
       "[Berserk]"
      ]
     },
     "execution_count": 101,
     "metadata": {},
     "output_type": "execute_result"
    }
   ],
   "source": [
    "cur1.get_positive_effects()"
   ]
  },
  {
   "cell_type": "code",
   "execution_count": 102,
   "id": "horizontal-negative",
   "metadata": {},
   "outputs": [
    {
     "data": {
      "text/plain": [
       "[Curse]"
      ]
     },
     "execution_count": 102,
     "metadata": {},
     "output_type": "execute_result"
    }
   ],
   "source": [
    "cur1.get_negative_effects()"
   ]
  },
  {
   "cell_type": "code",
   "execution_count": 103,
   "id": "twelve-penetration",
   "metadata": {},
   "outputs": [],
   "source": [
    "wk = Weakness(hero)"
   ]
  }
 ],
 "metadata": {
  "kernelspec": {
   "display_name": "Python 3",
   "language": "python",
   "name": "python3"
  },
  "language_info": {
   "codemirror_mode": {
    "name": "ipython",
    "version": 3
   },
   "file_extension": ".py",
   "mimetype": "text/x-python",
   "name": "python",
   "nbconvert_exporter": "python",
   "pygments_lexer": "ipython3",
   "version": "3.6.8"
  }
 },
 "nbformat": 4,
 "nbformat_minor": 5
}
