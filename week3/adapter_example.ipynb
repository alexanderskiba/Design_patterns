{
 "cells": [
  {
   "cell_type": "code",
   "execution_count": 36,
   "id": "straight-killer",
   "metadata": {},
   "outputs": [],
   "source": [
    "import re\n",
    "from abc import ABC, abstractmethod\n",
    "\n",
    "text = '''\n",
    "Design Patterns: Elements of Reusable Object-Oriented Software is a software engineering book describing software design patterns. The book's authors are Erich Gamma, Richard Helm, Ralph Johnson and John Vlissides with a foreword by Grady Booch. The book is divided into two parts, with the first two chapters exploring the capabilities and pitfalls of object-oriented programming, and the remaining chapters describing 23 classic software design patterns. The book includes examples in C++ and Smalltalk.\n",
    "It has been influential to the field of software engineering and is regarded as an important source for object-oriented design theory and practice. More than 500,000 copies have been sold in English and in 13 other languages. The authors are often referred to as the Gang of Four (GoF).\n",
    "'''"
   ]
  },
  {
   "cell_type": "code",
   "execution_count": 37,
   "id": "olive-expert",
   "metadata": {},
   "outputs": [],
   "source": [
    "class System:\n",
    "    \"\"\"Берет текст, тделает предварительную обработку,\n",
    "    далее необходимо вывести слова в порядке убывания их частоты,\n",
    "    но собственного обработчика нет\"\"\"\n",
    "    def __init__(self, text):\n",
    "        tmp = re.sub(r'\\W', ' ', text.lower())\n",
    "        tmp = re.sub(r' +', ' ', tmp).strip()\n",
    "        self.text = tmp\n",
    "    \n",
    "    def get_processed_text(self, processor):\n",
    "        result = processor.process_text(self.text)\n",
    "        print(*result, sep = '\\n')\n",
    "        \n",
    "class TextProcessor:\n",
    "    \"\"\"Интерфейс обработчика\"\"\"\n",
    "    @abstractmethod\n",
    "    def procces_text(self, text):\n",
    "        pass"
   ]
  },
  {
   "cell_type": "code",
   "execution_count": 38,
   "id": "becoming-murder",
   "metadata": {},
   "outputs": [],
   "source": [
    "class WordCounter:\n",
    "    \"\"\"Обработчик\"\"\"\n",
    "    def count_words(self, text):\n",
    "        self.__words = dict()\n",
    "        for word in text.split():\n",
    "            self.__words[word] = self.__words.get(word, 0) + 1\n",
    "            \n",
    "    def get_count(self, word):\n",
    "        \"\"\"сколько раз встретилось одно слово\"\"\"\n",
    "        return self.__words.get(word, 0)\n",
    "        \n",
    "    def get_all_words(self):\n",
    "        \"\"\" сколько раз встретились все слова\"\"\"\n",
    "        return self.__words.copy()"
   ]
  },
  {
   "cell_type": "markdown",
   "id": "amended-incentive",
   "metadata": {},
   "source": [
    "Создадим объект системы и передадим в него некоторый текст"
   ]
  },
  {
   "cell_type": "code",
   "execution_count": 39,
   "id": "preliminary-diamond",
   "metadata": {},
   "outputs": [],
   "source": [
    "system = System(text)"
   ]
  },
  {
   "cell_type": "code",
   "execution_count": 40,
   "id": "continental-restaurant",
   "metadata": {},
   "outputs": [],
   "source": [
    "counter = WordCounter()"
   ]
  },
  {
   "cell_type": "code",
   "execution_count": 41,
   "id": "spectacular-consolidation",
   "metadata": {},
   "outputs": [
    {
     "ename": "AttributeError",
     "evalue": "'WordCounter' object has no attribute 'process_text'",
     "output_type": "error",
     "traceback": [
      "\u001b[0;31m---------------------------------------------------------------------------\u001b[0m",
      "\u001b[0;31mAttributeError\u001b[0m                            Traceback (most recent call last)",
      "\u001b[0;32m<ipython-input-41-1ee075554025>\u001b[0m in \u001b[0;36m<module>\u001b[0;34m\u001b[0m\n\u001b[0;32m----> 1\u001b[0;31m \u001b[0msystem\u001b[0m\u001b[0;34m.\u001b[0m\u001b[0mget_processed_text\u001b[0m\u001b[0;34m(\u001b[0m\u001b[0mcounter\u001b[0m\u001b[0;34m)\u001b[0m\u001b[0;34m\u001b[0m\u001b[0;34m\u001b[0m\u001b[0m\n\u001b[0m",
      "\u001b[0;32m<ipython-input-37-240b8af0fb09>\u001b[0m in \u001b[0;36mget_processed_text\u001b[0;34m(self, processor)\u001b[0m\n\u001b[1;32m      9\u001b[0m \u001b[0;34m\u001b[0m\u001b[0m\n\u001b[1;32m     10\u001b[0m     \u001b[0;32mdef\u001b[0m \u001b[0mget_processed_text\u001b[0m\u001b[0;34m(\u001b[0m\u001b[0mself\u001b[0m\u001b[0;34m,\u001b[0m \u001b[0mprocessor\u001b[0m\u001b[0;34m)\u001b[0m\u001b[0;34m:\u001b[0m\u001b[0;34m\u001b[0m\u001b[0;34m\u001b[0m\u001b[0m\n\u001b[0;32m---> 11\u001b[0;31m         \u001b[0mresult\u001b[0m \u001b[0;34m=\u001b[0m \u001b[0mprocessor\u001b[0m\u001b[0;34m.\u001b[0m\u001b[0mprocess_text\u001b[0m\u001b[0;34m(\u001b[0m\u001b[0mself\u001b[0m\u001b[0;34m.\u001b[0m\u001b[0mtext\u001b[0m\u001b[0;34m)\u001b[0m\u001b[0;34m\u001b[0m\u001b[0;34m\u001b[0m\u001b[0m\n\u001b[0m\u001b[1;32m     12\u001b[0m         \u001b[0mprint\u001b[0m\u001b[0;34m(\u001b[0m\u001b[0;34m*\u001b[0m\u001b[0mresult\u001b[0m\u001b[0;34m,\u001b[0m \u001b[0msep\u001b[0m \u001b[0;34m=\u001b[0m \u001b[0;34m'\\n'\u001b[0m\u001b[0;34m)\u001b[0m\u001b[0;34m\u001b[0m\u001b[0;34m\u001b[0m\u001b[0m\n\u001b[1;32m     13\u001b[0m \u001b[0;34m\u001b[0m\u001b[0m\n",
      "\u001b[0;31mAttributeError\u001b[0m: 'WordCounter' object has no attribute 'process_text'"
     ]
    }
   ],
   "source": [
    "system.get_processed_text(counter)"
   ]
  },
  {
   "cell_type": "markdown",
   "id": "worst-registrar",
   "metadata": {},
   "source": [
    "Получим ошибку, так как интерфейсы обработчика и системы не совместимы"
   ]
  },
  {
   "cell_type": "markdown",
   "id": "assisted-carter",
   "metadata": {},
   "source": [
    "Напишем адаптер, который позволит использовать обраточик в системе"
   ]
  },
  {
   "cell_type": "code",
   "execution_count": 42,
   "id": "statutory-birth",
   "metadata": {},
   "outputs": [],
   "source": [
    "class WordCounterAdapter(TextProcessor):\n",
    "    def __init__(self, adaptee):\n",
    "        self.adaptee = adaptee\n",
    "        \n",
    "    def process_text(self, text):\n",
    "        self.adaptee.count_words(text)\n",
    "        words = self.adaptee.get_all_words().keys()\n",
    "        return sorted(words, key = lambda x: self.adaptee.get_count(x),\n",
    "                     reverse = True)"
   ]
  },
  {
   "cell_type": "code",
   "execution_count": 43,
   "id": "cheap-martin",
   "metadata": {},
   "outputs": [],
   "source": [
    "adapter = WordCounterAdapter(counter)"
   ]
  },
  {
   "cell_type": "code",
   "execution_count": 45,
   "id": "finished-decade",
   "metadata": {},
   "outputs": [
    {
     "name": "stdout",
     "output_type": "stream",
     "text": [
      "the\n",
      "and\n",
      "software\n",
      "design\n",
      "of\n",
      "book\n",
      "patterns\n",
      "object\n",
      "oriented\n",
      "is\n",
      "in\n",
      "a\n",
      "engineering\n",
      "describing\n",
      "authors\n",
      "are\n",
      "with\n",
      "two\n",
      "chapters\n",
      "been\n",
      "to\n",
      "as\n",
      "elements\n",
      "reusable\n",
      "s\n",
      "erich\n",
      "gamma\n",
      "richard\n",
      "helm\n",
      "ralph\n",
      "johnson\n",
      "john\n",
      "vlissides\n",
      "foreword\n",
      "by\n",
      "grady\n",
      "booch\n",
      "divided\n",
      "into\n",
      "parts\n",
      "first\n",
      "exploring\n",
      "capabilities\n",
      "pitfalls\n",
      "programming\n",
      "remaining\n",
      "23\n",
      "classic\n",
      "includes\n",
      "examples\n",
      "c\n",
      "smalltalk\n",
      "it\n",
      "has\n",
      "influential\n",
      "field\n",
      "regarded\n",
      "an\n",
      "important\n",
      "source\n",
      "for\n",
      "theory\n",
      "practice\n",
      "more\n",
      "than\n",
      "500\n",
      "000\n",
      "copies\n",
      "have\n",
      "sold\n",
      "english\n",
      "13\n",
      "other\n",
      "languages\n",
      "often\n",
      "referred\n",
      "gang\n",
      "four\n",
      "gof\n"
     ]
    }
   ],
   "source": [
    "system.get_processed_text(adapter)"
   ]
  },
  {
   "cell_type": "code",
   "execution_count": null,
   "id": "accredited-baltimore",
   "metadata": {},
   "outputs": [],
   "source": []
  }
 ],
 "metadata": {
  "kernelspec": {
   "display_name": "Python 3",
   "language": "python",
   "name": "python3"
  },
  "language_info": {
   "codemirror_mode": {
    "name": "ipython",
    "version": 3
   },
   "file_extension": ".py",
   "mimetype": "text/x-python",
   "name": "python",
   "nbconvert_exporter": "python",
   "pygments_lexer": "ipython3",
   "version": "3.6.8"
  }
 },
 "nbformat": 4,
 "nbformat_minor": 5
}
