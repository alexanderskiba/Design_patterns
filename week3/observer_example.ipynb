{
 "cells": [
  {
   "cell_type": "markdown",
   "id": "available-vehicle",
   "metadata": {},
   "source": [
    "Менеджер уведомлений, который может рассылать уведомления, есть подписчики, их два типа printer(печатает сообщение) и notifier(уведомляет, что сообщеине пришло)"
   ]
  },
  {
   "cell_type": "markdown",
   "id": "desperate-yeast",
   "metadata": {},
   "source": [
    "Создадим класс NotifierManager, в конструкторе объявим пустой список подписчиков"
   ]
  },
  {
   "cell_type": "code",
   "execution_count": 12,
   "id": "alpha-count",
   "metadata": {},
   "outputs": [],
   "source": [
    "from abc import ABC, abstractmethod\n"
   ]
  },
  {
   "cell_type": "code",
   "execution_count": 13,
   "id": "cutting-value",
   "metadata": {},
   "outputs": [],
   "source": [
    "class NotificationManager:\n",
    "    def __init__(self):\n",
    "        self.__subscribers = set()\n",
    "        \n",
    "    def subscribe(self, subscriber):\n",
    "        \"\"\"Добавить подписчика\"\"\"\n",
    "        self.__subscribers.add(subscriber)\n",
    "        \n",
    "    def unsubscribe(self, subscriber):\n",
    "        \"\"\"Удалить подписчика\"\"\"\n",
    "        self.__subscribers.remove(subscriber)\n",
    "        \n",
    "    def notify(self, message):\n",
    "        \"\"\"Отправить уведомление все подписчикам, \n",
    "        чтобы отправить им уведомление, \n",
    "        необходимо у них вызвать метод update\"\"\"\n",
    "        for subscriber in self.__subscribers:\n",
    "            subscriber.update(message)"
   ]
  },
  {
   "cell_type": "markdown",
   "id": "accurate-olympus",
   "metadata": {},
   "source": [
    "Объявим абстрактного наблюдателя"
   ]
  },
  {
   "cell_type": "code",
   "execution_count": 14,
   "id": "surface-fundamental",
   "metadata": {},
   "outputs": [],
   "source": [
    "class AbsctractObserver(ABC):\n",
    "    @abstractmethod\n",
    "    def update(self, message):\n",
    "        pass"
   ]
  },
  {
   "cell_type": "markdown",
   "id": "stuck-floating",
   "metadata": {},
   "source": [
    "Теперь объявим две конкретные реализации - Notifier и printer"
   ]
  },
  {
   "cell_type": "code",
   "execution_count": 25,
   "id": "several-parts",
   "metadata": {},
   "outputs": [],
   "source": [
    "class MessageNotifier(AbsctractObserver):\n",
    "    def __init__(self, name):\n",
    "        self.__name = name\n",
    "    \n",
    "    def update(self, message):\n",
    "        print(f\"{self.__name} received message!\")\n",
    "        \n",
    "class MessagePrinter(AbsctractObserver):\n",
    "    def __init__(self, name):\n",
    "        self.__name = name\n",
    "    \n",
    "    def update(self, message):\n",
    "        print(f\"{self.__name} received message:{message}\")"
   ]
  },
  {
   "cell_type": "code",
   "execution_count": 26,
   "id": "republican-brazilian",
   "metadata": {},
   "outputs": [],
   "source": [
    "notifier = MessageNotifier(\"Notifier1\")\n",
    "printer1 = MessagePrinter(\"Printer1\")\n",
    "printer2 = MessagePrinter(\"Printer2\")"
   ]
  },
  {
   "cell_type": "code",
   "execution_count": 27,
   "id": "artificial-symbol",
   "metadata": {},
   "outputs": [],
   "source": [
    "manager = NotificationManager()"
   ]
  },
  {
   "cell_type": "markdown",
   "id": "compressed-concert",
   "metadata": {},
   "source": [
    "Теперь подпишем наблюдателей к нашему менеджеру, для этого воспользуемся методом subscribe"
   ]
  },
  {
   "cell_type": "code",
   "execution_count": 28,
   "id": "adjusted-voluntary",
   "metadata": {},
   "outputs": [],
   "source": [
    "manager.subscribe(notifier)\n",
    "manager.subscribe(printer1)\n",
    "manager.subscribe(printer2)"
   ]
  },
  {
   "cell_type": "code",
   "execution_count": 29,
   "id": "upper-commercial",
   "metadata": {},
   "outputs": [
    {
     "name": "stdout",
     "output_type": "stream",
     "text": [
      "Printer1 received message:Hi\n",
      "Notifier1 received message!\n",
      "Printer2 received message:Hi\n"
     ]
    }
   ],
   "source": [
    "manager.notify(\"Hi\")"
   ]
  },
  {
   "cell_type": "code",
   "execution_count": null,
   "id": "technical-commerce",
   "metadata": {},
   "outputs": [],
   "source": []
  }
 ],
 "metadata": {
  "kernelspec": {
   "display_name": "Python 3",
   "language": "python",
   "name": "python3"
  },
  "language_info": {
   "codemirror_mode": {
    "name": "ipython",
    "version": 3
   },
   "file_extension": ".py",
   "mimetype": "text/x-python",
   "name": "python",
   "nbconvert_exporter": "python",
   "pygments_lexer": "ipython3",
   "version": "3.6.8"
  }
 },
 "nbformat": 4,
 "nbformat_minor": 5
}
