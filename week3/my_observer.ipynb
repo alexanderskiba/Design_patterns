{
 "cells": [
  {
   "cell_type": "code",
   "execution_count": 31,
   "id": "collaborative-score",
   "metadata": {},
   "outputs": [],
   "source": [
    "from abc import ABC, abstractmethod"
   ]
  },
  {
   "cell_type": "code",
   "execution_count": 32,
   "id": "premier-theme",
   "metadata": {},
   "outputs": [],
   "source": [
    "class Engine:\n",
    "    pass"
   ]
  },
  {
   "cell_type": "markdown",
   "id": "blocked-thirty",
   "metadata": {},
   "source": [
    "Класс наблюдаемого движка"
   ]
  },
  {
   "cell_type": "code",
   "execution_count": 33,
   "id": "static-optics",
   "metadata": {},
   "outputs": [],
   "source": [
    "class ObservableEngine(Engine):\n",
    "    def __init__(self):\n",
    "        self.__subscribers = set()\n",
    "    \n",
    "    def subscribe(self, subscriber):\n",
    "        \"\"\"Добавить подписчика\"\"\"\n",
    "        self.__subscribers.add(subscriber)\n",
    "    \n",
    "    def unsubscribe(self, subscriber):\n",
    "        \"\"\"Удалить подписчика\"\"\"\n",
    "        self.__subscribers.remove(subscriber)\n",
    "    \n",
    "    def notify(self, message):\n",
    "        \"\"\"Отправить уведомление все подписчикам, \n",
    "        чтобы отправить им уведомление, \n",
    "        необходимо у них вызвать метод update\"\"\"\n",
    "        for subscriber in self.__subscribers:\n",
    "            subscriber.update(message)"
   ]
  },
  {
   "cell_type": "markdown",
   "id": "convertible-coalition",
   "metadata": {},
   "source": [
    "Класс асбтрактного наблюдателся"
   ]
  },
  {
   "cell_type": "code",
   "execution_count": 34,
   "id": "corrected-portland",
   "metadata": {},
   "outputs": [],
   "source": [
    "class AbstractObserver(ABC):\n",
    "    @abstractmethod\n",
    "    def update(self, message):\n",
    "        pass"
   ]
  },
  {
   "cell_type": "markdown",
   "id": "following-january",
   "metadata": {},
   "source": [
    "Класс коротких уведомлений, в нем хранится множество названий полученных достижений"
   ]
  },
  {
   "cell_type": "code",
   "execution_count": 35,
   "id": "random-guidance",
   "metadata": {},
   "outputs": [],
   "source": [
    "class ShortNotificationPrinter(AbstractObserver):\n",
    "    def __init__(self):\n",
    "        self.achievements = set()\n",
    "\n",
    "    def update(self, message):\n",
    "        if message[\"title\"] in self.achievements:\n",
    "            pass\n",
    "        else:\n",
    "            self.achievements.add(message[\"title\"])"
   ]
  },
  {
   "cell_type": "markdown",
   "id": "normal-dependence",
   "metadata": {},
   "source": [
    "Класс полных уведомлений, в нем хранится список достижений в том порядке, в котором они генерируются движком "
   ]
  },
  {
   "cell_type": "code",
   "execution_count": 36,
   "id": "interested-robertson",
   "metadata": {},
   "outputs": [],
   "source": [
    "class FullNotificationPrinter(AbstractObserver):\n",
    "    def __init__(self):\n",
    "        self.achievements = list()\n",
    "\n",
    "    def update(self, message):\n",
    "        if message in self.achievements:\n",
    "            pass\n",
    "        else:\n",
    "            self.achievements.append(message)"
   ]
  }
 ],
 "metadata": {
  "kernelspec": {
   "display_name": "Python 3",
   "language": "python",
   "name": "python3"
  },
  "language_info": {
   "codemirror_mode": {
    "name": "ipython",
    "version": 3
   },
   "file_extension": ".py",
   "mimetype": "text/x-python",
   "name": "python",
   "nbconvert_exporter": "python",
   "pygments_lexer": "ipython3",
   "version": "3.6.8"
  }
 },
 "nbformat": 4,
 "nbformat_minor": 5
}
